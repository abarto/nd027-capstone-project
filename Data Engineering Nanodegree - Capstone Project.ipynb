{
 "cells": [
  {
   "cell_type": "markdown",
   "metadata": {
    "editable": true
   },
   "source": [
    "# Data Engineering Nanodegree - Capstone Project"
   ]
  },
  {
   "cell_type": "code",
   "execution_count": 1,
   "metadata": {
    "editable": true
   },
   "outputs": [],
   "source": [
    "import re\n",
    "from functools import reduce\n",
    "from itertools import islice, chain, zip_longest\n",
    "from datetime import date, datetime, timedelta\n",
    "from pathlib import Path\n",
    "import pandas as pd\n",
    "import requests\n",
    "from bs4 import BeautifulSoup\n",
    "from IPython.display import Image\n",
    "from pyspark.sql import functions as F\n",
    "from pyspark.sql import SparkSession, Row\n",
    "from pyspark.sql.window import Window\n",
    "from pyspark import SparkFiles"
   ]
  },
  {
   "cell_type": "code",
   "execution_count": 2,
   "metadata": {
    "editable": true
   },
   "outputs": [],
   "source": [
    "spark = SparkSession.builder.\\\n",
    "config(\"spark.jars.repositories\", \"https://repos.spark-packages.org/\").\\\n",
    "config(\"spark.jars.packages\", \"saurfang:spark-sas7bdat:2.0.0-s_2.11\").\\\n",
    "enableHiveSupport().getOrCreate()"
   ]
  },
  {
   "cell_type": "markdown",
   "metadata": {
    "editable": true
   },
   "source": [
    "## Step 1: Scope the Project and Gather Data"
   ]
  },
  {
   "cell_type": "markdown",
   "metadata": {
    "editable": true
   },
   "source": [
    "### Introduction"
   ]
  },
  {
   "cell_type": "markdown",
   "metadata": {
    "editable": true
   },
   "source": [
    "When I started looking for an interesting set of data to work on, I went through the suggested sources on Project Page and I was immediately struck with choice paralysis. There are so many interesting data sets around, but I couldn't settle on one that had the required scale and was interesting to work with, so I decided to use the data from the Udacity Provided Project which is based around the I94 Immigration Data."
   ]
  },
  {
   "cell_type": "markdown",
   "metadata": {
    "editable": true
   },
   "source": [
    "### Scope"
   ]
  },
  {
   "cell_type": "markdown",
   "metadata": {
    "editable": true
   },
   "source": [
    "Having chosen the Udacity Provided Project, the next step was to choose what to do with the data. My idea is to assume the role of a data analyst of a transportation company that wants to extract useful information out of the immigration data. Possible usages of this data are:\n",
    "\n",
    "* Increase availability of vehicles based on increased influx of passengers on major US airports.\n",
    "* Prioritize assignment of drivers based on the demographics of the passengers to ensure culture/language fit.\n",
    "* Ensure the vehicles assigned to the airports are compatible with the typical conditions of the day (number of expected passengers, weather, etc.)\n",
    "\n",
    "Given that the I94 Immigration data is not publicly available (for free), I had to design the ETL process around the limitations imposed by this restrictions:\n",
    "\n",
    "* Do as much as possible within Udacity's workspace.\n",
    "* Minimize the usage of the AWS resources so I don't run out of credits.\n",
    "* Design the ETL process as if I had free access to all data sources and unlimited resources on the cloud, but only implement the parts that fit withing the restrictions imposed by the data access and budget restrictions.\n",
    "\n",
    "With all these requirements and restricions in mind, the goal is to construct a model to represent the daily influx of immigrants for all the major cities in the US with international airports on a given day, informing about their country of origin, language and gender, alongside the typical climatological conditions for that day."
   ]
  },
  {
   "cell_type": "markdown",
   "metadata": {
    "editable": true
   },
   "source": [
    "### Gather Data"
   ]
  },
  {
   "cell_type": "markdown",
   "metadata": {
    "editable": true
   },
   "source": [
    "#### I94 Immigration Data"
   ]
  },
  {
   "cell_type": "markdown",
   "metadata": {
    "editable": true
   },
   "source": [
    "(Source: https://www.trade.gov/national-travel-and-tourism-office)"
   ]
  },
  {
   "cell_type": "code",
   "execution_count": 3,
   "metadata": {
    "editable": true
   },
   "outputs": [],
   "source": [
    "df_i94_data = spark.read.format(\"com.github.saurfang.sas.spark\").load(\"../../data/18-83510-I94-Data-2016/i94_apr16_sub.sas7bdat\")"
   ]
  },
  {
   "cell_type": "code",
   "execution_count": 4,
   "metadata": {
    "editable": true
   },
   "outputs": [
    {
     "data": {
      "text/html": [
       "<div>\n",
       "<style scoped>\n",
       "    .dataframe tbody tr th:only-of-type {\n",
       "        vertical-align: middle;\n",
       "    }\n",
       "\n",
       "    .dataframe tbody tr th {\n",
       "        vertical-align: top;\n",
       "    }\n",
       "\n",
       "    .dataframe thead th {\n",
       "        text-align: right;\n",
       "    }\n",
       "</style>\n",
       "<table border=\"1\" class=\"dataframe\">\n",
       "  <thead>\n",
       "    <tr style=\"text-align: right;\">\n",
       "      <th></th>\n",
       "      <th>cicid</th>\n",
       "      <th>i94yr</th>\n",
       "      <th>i94mon</th>\n",
       "      <th>i94cit</th>\n",
       "      <th>i94res</th>\n",
       "      <th>i94port</th>\n",
       "      <th>arrdate</th>\n",
       "      <th>i94mode</th>\n",
       "      <th>i94addr</th>\n",
       "      <th>depdate</th>\n",
       "      <th>...</th>\n",
       "      <th>entdepu</th>\n",
       "      <th>matflag</th>\n",
       "      <th>biryear</th>\n",
       "      <th>dtaddto</th>\n",
       "      <th>gender</th>\n",
       "      <th>insnum</th>\n",
       "      <th>airline</th>\n",
       "      <th>admnum</th>\n",
       "      <th>fltno</th>\n",
       "      <th>visatype</th>\n",
       "    </tr>\n",
       "  </thead>\n",
       "  <tbody>\n",
       "    <tr>\n",
       "      <th>0</th>\n",
       "      <td>6.0</td>\n",
       "      <td>2016.0</td>\n",
       "      <td>4.0</td>\n",
       "      <td>692.0</td>\n",
       "      <td>692.0</td>\n",
       "      <td>XXX</td>\n",
       "      <td>20573.0</td>\n",
       "      <td>NaN</td>\n",
       "      <td>None</td>\n",
       "      <td>NaN</td>\n",
       "      <td>...</td>\n",
       "      <td>U</td>\n",
       "      <td>None</td>\n",
       "      <td>1979.0</td>\n",
       "      <td>10282016</td>\n",
       "      <td>None</td>\n",
       "      <td>None</td>\n",
       "      <td>None</td>\n",
       "      <td>1.897628e+09</td>\n",
       "      <td>None</td>\n",
       "      <td>B2</td>\n",
       "    </tr>\n",
       "    <tr>\n",
       "      <th>1</th>\n",
       "      <td>7.0</td>\n",
       "      <td>2016.0</td>\n",
       "      <td>4.0</td>\n",
       "      <td>254.0</td>\n",
       "      <td>276.0</td>\n",
       "      <td>ATL</td>\n",
       "      <td>20551.0</td>\n",
       "      <td>1.0</td>\n",
       "      <td>AL</td>\n",
       "      <td>NaN</td>\n",
       "      <td>...</td>\n",
       "      <td>Y</td>\n",
       "      <td>None</td>\n",
       "      <td>1991.0</td>\n",
       "      <td>D/S</td>\n",
       "      <td>M</td>\n",
       "      <td>None</td>\n",
       "      <td>None</td>\n",
       "      <td>3.736796e+09</td>\n",
       "      <td>00296</td>\n",
       "      <td>F1</td>\n",
       "    </tr>\n",
       "    <tr>\n",
       "      <th>2</th>\n",
       "      <td>15.0</td>\n",
       "      <td>2016.0</td>\n",
       "      <td>4.0</td>\n",
       "      <td>101.0</td>\n",
       "      <td>101.0</td>\n",
       "      <td>WAS</td>\n",
       "      <td>20545.0</td>\n",
       "      <td>1.0</td>\n",
       "      <td>MI</td>\n",
       "      <td>20691.0</td>\n",
       "      <td>...</td>\n",
       "      <td>None</td>\n",
       "      <td>M</td>\n",
       "      <td>1961.0</td>\n",
       "      <td>09302016</td>\n",
       "      <td>M</td>\n",
       "      <td>None</td>\n",
       "      <td>OS</td>\n",
       "      <td>6.666432e+08</td>\n",
       "      <td>93</td>\n",
       "      <td>B2</td>\n",
       "    </tr>\n",
       "    <tr>\n",
       "      <th>3</th>\n",
       "      <td>16.0</td>\n",
       "      <td>2016.0</td>\n",
       "      <td>4.0</td>\n",
       "      <td>101.0</td>\n",
       "      <td>101.0</td>\n",
       "      <td>NYC</td>\n",
       "      <td>20545.0</td>\n",
       "      <td>1.0</td>\n",
       "      <td>MA</td>\n",
       "      <td>20567.0</td>\n",
       "      <td>...</td>\n",
       "      <td>None</td>\n",
       "      <td>M</td>\n",
       "      <td>1988.0</td>\n",
       "      <td>09302016</td>\n",
       "      <td>None</td>\n",
       "      <td>None</td>\n",
       "      <td>AA</td>\n",
       "      <td>9.246846e+10</td>\n",
       "      <td>00199</td>\n",
       "      <td>B2</td>\n",
       "    </tr>\n",
       "    <tr>\n",
       "      <th>4</th>\n",
       "      <td>17.0</td>\n",
       "      <td>2016.0</td>\n",
       "      <td>4.0</td>\n",
       "      <td>101.0</td>\n",
       "      <td>101.0</td>\n",
       "      <td>NYC</td>\n",
       "      <td>20545.0</td>\n",
       "      <td>1.0</td>\n",
       "      <td>MA</td>\n",
       "      <td>20567.0</td>\n",
       "      <td>...</td>\n",
       "      <td>None</td>\n",
       "      <td>M</td>\n",
       "      <td>2012.0</td>\n",
       "      <td>09302016</td>\n",
       "      <td>None</td>\n",
       "      <td>None</td>\n",
       "      <td>AA</td>\n",
       "      <td>9.246846e+10</td>\n",
       "      <td>00199</td>\n",
       "      <td>B2</td>\n",
       "    </tr>\n",
       "  </tbody>\n",
       "</table>\n",
       "<p>5 rows × 28 columns</p>\n",
       "</div>"
      ],
      "text/plain": [
       "   cicid   i94yr  i94mon  i94cit  i94res i94port  arrdate  i94mode i94addr  \\\n",
       "0    6.0  2016.0     4.0   692.0   692.0     XXX  20573.0      NaN    None   \n",
       "1    7.0  2016.0     4.0   254.0   276.0     ATL  20551.0      1.0      AL   \n",
       "2   15.0  2016.0     4.0   101.0   101.0     WAS  20545.0      1.0      MI   \n",
       "3   16.0  2016.0     4.0   101.0   101.0     NYC  20545.0      1.0      MA   \n",
       "4   17.0  2016.0     4.0   101.0   101.0     NYC  20545.0      1.0      MA   \n",
       "\n",
       "   depdate   ...     entdepu  matflag  biryear   dtaddto gender insnum  \\\n",
       "0      NaN   ...           U     None   1979.0  10282016   None   None   \n",
       "1      NaN   ...           Y     None   1991.0       D/S      M   None   \n",
       "2  20691.0   ...        None        M   1961.0  09302016      M   None   \n",
       "3  20567.0   ...        None        M   1988.0  09302016   None   None   \n",
       "4  20567.0   ...        None        M   2012.0  09302016   None   None   \n",
       "\n",
       "  airline        admnum  fltno visatype  \n",
       "0    None  1.897628e+09   None       B2  \n",
       "1    None  3.736796e+09  00296       F1  \n",
       "2      OS  6.666432e+08     93       B2  \n",
       "3      AA  9.246846e+10  00199       B2  \n",
       "4      AA  9.246846e+10  00199       B2  \n",
       "\n",
       "[5 rows x 28 columns]"
      ]
     },
     "execution_count": 4,
     "metadata": {},
     "output_type": "execute_result"
    }
   ],
   "source": [
    "df_i94_data.limit(5).toPandas()"
   ]
  },
  {
   "cell_type": "code",
   "execution_count": 5,
   "metadata": {
    "editable": true
   },
   "outputs": [
    {
     "name": "stdout",
     "output_type": "stream",
     "text": [
      "root\n",
      " |-- cicid: double (nullable = true)\n",
      " |-- i94yr: double (nullable = true)\n",
      " |-- i94mon: double (nullable = true)\n",
      " |-- i94cit: double (nullable = true)\n",
      " |-- i94res: double (nullable = true)\n",
      " |-- i94port: string (nullable = true)\n",
      " |-- arrdate: double (nullable = true)\n",
      " |-- i94mode: double (nullable = true)\n",
      " |-- i94addr: string (nullable = true)\n",
      " |-- depdate: double (nullable = true)\n",
      " |-- i94bir: double (nullable = true)\n",
      " |-- i94visa: double (nullable = true)\n",
      " |-- count: double (nullable = true)\n",
      " |-- dtadfile: string (nullable = true)\n",
      " |-- visapost: string (nullable = true)\n",
      " |-- occup: string (nullable = true)\n",
      " |-- entdepa: string (nullable = true)\n",
      " |-- entdepd: string (nullable = true)\n",
      " |-- entdepu: string (nullable = true)\n",
      " |-- matflag: string (nullable = true)\n",
      " |-- biryear: double (nullable = true)\n",
      " |-- dtaddto: string (nullable = true)\n",
      " |-- gender: string (nullable = true)\n",
      " |-- insnum: string (nullable = true)\n",
      " |-- airline: string (nullable = true)\n",
      " |-- admnum: double (nullable = true)\n",
      " |-- fltno: string (nullable = true)\n",
      " |-- visatype: string (nullable = true)\n",
      "\n"
     ]
    }
   ],
   "source": [
    "df_i94_data.printSchema()"
   ]
  },
  {
   "cell_type": "markdown",
   "metadata": {
    "editable": true
   },
   "source": [
    "This is data set is the main source of information for the fact tables, as my goal is to aggregate ingresses by day and airport, to get a sense of the scale of the needs that our ficticious transportation company needs to fill. What I'm most interested in is:\n",
    "\n",
    "* The arrival date: `arrdate`\n",
    "* The port of entry: `i94port`\n",
    "* Country of origin:: Either `i94cit` or `i94res`\n",
    "* Age: `biryear`\n",
    "* Gender: `gender`\n",
    "\n",
    "Given that the semantics behind the values of some of the fields are described in the `I94_SAS_Labels_Descriptions.SAS` file, I've created a Jupyter notebook to extract the relevant information into CSV files. For the purpose of this Project, I ssumed this information to be static. Eventually, if a more appropriate way of sourcing this information is found, I could integrate it using the homegrown tables as an exchange format, so I can still use the existing ETL processes. "
   ]
  },
  {
   "cell_type": "code",
   "execution_count": 6,
   "metadata": {
    "editable": true
   },
   "outputs": [],
   "source": [
    "df_i94cntyl = spark.read.csv(\"i94cntyl.csv\", header=True)"
   ]
  },
  {
   "cell_type": "code",
   "execution_count": 7,
   "metadata": {
    "editable": true
   },
   "outputs": [
    {
     "data": {
      "text/html": [
       "<div>\n",
       "<style scoped>\n",
       "    .dataframe tbody tr th:only-of-type {\n",
       "        vertical-align: middle;\n",
       "    }\n",
       "\n",
       "    .dataframe tbody tr th {\n",
       "        vertical-align: top;\n",
       "    }\n",
       "\n",
       "    .dataframe thead th {\n",
       "        text-align: right;\n",
       "    }\n",
       "</style>\n",
       "<table border=\"1\" class=\"dataframe\">\n",
       "  <thead>\n",
       "    <tr style=\"text-align: right;\">\n",
       "      <th></th>\n",
       "      <th>value</th>\n",
       "      <th>description</th>\n",
       "    </tr>\n",
       "  </thead>\n",
       "  <tbody>\n",
       "    <tr>\n",
       "      <th>0</th>\n",
       "      <td>582</td>\n",
       "      <td>MEXICO Air Sea, and Not Reported (I-94, no lan...</td>\n",
       "    </tr>\n",
       "    <tr>\n",
       "      <th>1</th>\n",
       "      <td>236</td>\n",
       "      <td>AFGHANISTAN</td>\n",
       "    </tr>\n",
       "    <tr>\n",
       "      <th>2</th>\n",
       "      <td>101</td>\n",
       "      <td>ALBANIA</td>\n",
       "    </tr>\n",
       "    <tr>\n",
       "      <th>3</th>\n",
       "      <td>316</td>\n",
       "      <td>ALGERIA</td>\n",
       "    </tr>\n",
       "    <tr>\n",
       "      <th>4</th>\n",
       "      <td>102</td>\n",
       "      <td>ANDORRA</td>\n",
       "    </tr>\n",
       "  </tbody>\n",
       "</table>\n",
       "</div>"
      ],
      "text/plain": [
       "  value                                        description\n",
       "0   582  MEXICO Air Sea, and Not Reported (I-94, no lan...\n",
       "1   236                                        AFGHANISTAN\n",
       "2   101                                            ALBANIA\n",
       "3   316                                            ALGERIA\n",
       "4   102                                            ANDORRA"
      ]
     },
     "execution_count": 7,
     "metadata": {},
     "output_type": "execute_result"
    }
   ],
   "source": [
    "df_i94cntyl.limit(5).toPandas()"
   ]
  },
  {
   "cell_type": "markdown",
   "metadata": {
    "editable": true
   },
   "source": [
    "#### US Customs and Border Protection Port of Entry Codes"
   ]
  },
  {
   "cell_type": "markdown",
   "metadata": {
    "editable": true
   },
   "source": [
    "(Source: https://redbus2us.com/travel/usa/us-customs-and-border-protection-cbp-codes-port-of-entry-stamp/)"
   ]
  },
  {
   "cell_type": "markdown",
   "metadata": {
    "editable": true
   },
   "source": [
    "(Alternative source: https://web.archive.org/web/20210422115709/https://redbus2us.com/travel/usa/us-customs-and-border-protection-cbp-codes-port-of-entry-stamp/)"
   ]
  },
  {
   "cell_type": "markdown",
   "metadata": {
    "editable": true
   },
   "source": [
    "Although the provided data set contains information about the CBP in the `I94_SAS_Labels_Descriptions.SAS` file, the format makes it harder to combine with other sources of information. I've created a PySpark dataframe scraping the information from the source."
   ]
  },
  {
   "cell_type": "code",
   "execution_count": 8,
   "metadata": {
    "editable": true
   },
   "outputs": [],
   "source": [
    "headers = {\"User-Agent\": \"Mozilla/5.0 (X11; Ubuntu; Linux x86_64; rv:95.0) Gecko/20100101 Firefox/95.0\"}\n",
    "response = requests.get(\n",
    "    \"https://redbus2us.com/travel/usa/us-customs-and-border-protection-cbp-codes-port-of-entry-stamp/\",\n",
    "    headers=headers)"
   ]
  },
  {
   "cell_type": "code",
   "execution_count": 9,
   "metadata": {
    "editable": true
   },
   "outputs": [],
   "source": [
    "doc = BeautifulSoup(response.content, \"html.parser\")"
   ]
  },
  {
   "cell_type": "code",
   "execution_count": 10,
   "metadata": {
    "editable": true
   },
   "outputs": [],
   "source": [
    "df_cbp_codes = spark.createDataFrame(\n",
    "    Row(code=t[0], location=t[1])\n",
    "    for t in zip_longest(\n",
    "        *[\n",
    "            chain.from_iterable(\n",
    "                filter(\n",
    "                    lambda t: re.match(\"^[A-Z]{3}$\", t[0]),\n",
    "                    (\n",
    "                        tuple(map(lambda e: e.text, tr_elem.find_all(\"td\")))\n",
    "                        for tr_elem in doc.find_all(\"tr\")\n",
    "                    )\n",
    "                )\n",
    "            )\n",
    "        ]*2\n",
    "    )\n",
    ")"
   ]
  },
  {
   "cell_type": "code",
   "execution_count": 11,
   "metadata": {
    "editable": true
   },
   "outputs": [
    {
     "data": {
      "text/html": [
       "<div>\n",
       "<style scoped>\n",
       "    .dataframe tbody tr th:only-of-type {\n",
       "        vertical-align: middle;\n",
       "    }\n",
       "\n",
       "    .dataframe tbody tr th {\n",
       "        vertical-align: top;\n",
       "    }\n",
       "\n",
       "    .dataframe thead th {\n",
       "        text-align: right;\n",
       "    }\n",
       "</style>\n",
       "<table border=\"1\" class=\"dataframe\">\n",
       "  <thead>\n",
       "    <tr style=\"text-align: right;\">\n",
       "      <th></th>\n",
       "      <th>code</th>\n",
       "      <th>location</th>\n",
       "    </tr>\n",
       "  </thead>\n",
       "  <tbody>\n",
       "    <tr>\n",
       "      <th>0</th>\n",
       "      <td>ABE</td>\n",
       "      <td>Aberdeen, WA</td>\n",
       "    </tr>\n",
       "    <tr>\n",
       "      <th>1</th>\n",
       "      <td>ABG</td>\n",
       "      <td>Alburg, VT</td>\n",
       "    </tr>\n",
       "    <tr>\n",
       "      <th>2</th>\n",
       "      <td>ABQ</td>\n",
       "      <td>Albuquerque, NM</td>\n",
       "    </tr>\n",
       "    <tr>\n",
       "      <th>3</th>\n",
       "      <td>ABS</td>\n",
       "      <td>Alburg Springs, VT</td>\n",
       "    </tr>\n",
       "    <tr>\n",
       "      <th>4</th>\n",
       "      <td>ADT</td>\n",
       "      <td>Amistad Dam, TX</td>\n",
       "    </tr>\n",
       "  </tbody>\n",
       "</table>\n",
       "</div>"
      ],
      "text/plain": [
       "  code            location\n",
       "0  ABE        Aberdeen, WA\n",
       "1  ABG          Alburg, VT\n",
       "2  ABQ     Albuquerque, NM\n",
       "3  ABS  Alburg Springs, VT\n",
       "4  ADT     Amistad Dam, TX"
      ]
     },
     "execution_count": 11,
     "metadata": {},
     "output_type": "execute_result"
    }
   ],
   "source": [
    "df_cbp_codes.limit(5).toPandas()"
   ]
  },
  {
   "cell_type": "code",
   "execution_count": 12,
   "metadata": {
    "editable": true
   },
   "outputs": [
    {
     "name": "stdout",
     "output_type": "stream",
     "text": [
      "root\n",
      " |-- code: string (nullable = true)\n",
      " |-- location: string (nullable = true)\n",
      "\n"
     ]
    }
   ],
   "source": [
    "df_cbp_codes.printSchema()"
   ]
  },
  {
   "cell_type": "markdown",
   "metadata": {
    "editable": true
   },
   "source": [
    "#### World Temperature Data"
   ]
  },
  {
   "cell_type": "markdown",
   "metadata": {
    "editable": true
   },
   "source": [
    "(Source: https://www.kaggle.com/berkeleyearth/climate-change-earth-surface-temperature-data)"
   ]
  },
  {
   "cell_type": "markdown",
   "metadata": {
    "editable": true
   },
   "source": [
    "The idea for this data set is to get a sense of the wheather conditions at the date of ingress, to determine the most appropriate vehicle for that day."
   ]
  },
  {
   "cell_type": "code",
   "execution_count": 13,
   "metadata": {
    "editable": true
   },
   "outputs": [],
   "source": [
    "df_temperature = spark.read.csv(\"../../data2/GlobalLandTemperaturesByCity.csv\", header=True)"
   ]
  },
  {
   "cell_type": "code",
   "execution_count": 14,
   "metadata": {
    "editable": true
   },
   "outputs": [
    {
     "data": {
      "text/html": [
       "<div>\n",
       "<style scoped>\n",
       "    .dataframe tbody tr th:only-of-type {\n",
       "        vertical-align: middle;\n",
       "    }\n",
       "\n",
       "    .dataframe tbody tr th {\n",
       "        vertical-align: top;\n",
       "    }\n",
       "\n",
       "    .dataframe thead th {\n",
       "        text-align: right;\n",
       "    }\n",
       "</style>\n",
       "<table border=\"1\" class=\"dataframe\">\n",
       "  <thead>\n",
       "    <tr style=\"text-align: right;\">\n",
       "      <th></th>\n",
       "      <th>dt</th>\n",
       "      <th>AverageTemperature</th>\n",
       "      <th>AverageTemperatureUncertainty</th>\n",
       "      <th>City</th>\n",
       "      <th>Country</th>\n",
       "      <th>Latitude</th>\n",
       "      <th>Longitude</th>\n",
       "    </tr>\n",
       "  </thead>\n",
       "  <tbody>\n",
       "    <tr>\n",
       "      <th>0</th>\n",
       "      <td>1743-11-01</td>\n",
       "      <td>6.068</td>\n",
       "      <td>1.7369999999999999</td>\n",
       "      <td>Århus</td>\n",
       "      <td>Denmark</td>\n",
       "      <td>57.05N</td>\n",
       "      <td>10.33E</td>\n",
       "    </tr>\n",
       "    <tr>\n",
       "      <th>1</th>\n",
       "      <td>1743-12-01</td>\n",
       "      <td>None</td>\n",
       "      <td>None</td>\n",
       "      <td>Århus</td>\n",
       "      <td>Denmark</td>\n",
       "      <td>57.05N</td>\n",
       "      <td>10.33E</td>\n",
       "    </tr>\n",
       "    <tr>\n",
       "      <th>2</th>\n",
       "      <td>1744-01-01</td>\n",
       "      <td>None</td>\n",
       "      <td>None</td>\n",
       "      <td>Århus</td>\n",
       "      <td>Denmark</td>\n",
       "      <td>57.05N</td>\n",
       "      <td>10.33E</td>\n",
       "    </tr>\n",
       "    <tr>\n",
       "      <th>3</th>\n",
       "      <td>1744-02-01</td>\n",
       "      <td>None</td>\n",
       "      <td>None</td>\n",
       "      <td>Århus</td>\n",
       "      <td>Denmark</td>\n",
       "      <td>57.05N</td>\n",
       "      <td>10.33E</td>\n",
       "    </tr>\n",
       "    <tr>\n",
       "      <th>4</th>\n",
       "      <td>1744-03-01</td>\n",
       "      <td>None</td>\n",
       "      <td>None</td>\n",
       "      <td>Århus</td>\n",
       "      <td>Denmark</td>\n",
       "      <td>57.05N</td>\n",
       "      <td>10.33E</td>\n",
       "    </tr>\n",
       "  </tbody>\n",
       "</table>\n",
       "</div>"
      ],
      "text/plain": [
       "           dt AverageTemperature AverageTemperatureUncertainty   City  \\\n",
       "0  1743-11-01              6.068            1.7369999999999999  Århus   \n",
       "1  1743-12-01               None                          None  Århus   \n",
       "2  1744-01-01               None                          None  Århus   \n",
       "3  1744-02-01               None                          None  Århus   \n",
       "4  1744-03-01               None                          None  Århus   \n",
       "\n",
       "   Country Latitude Longitude  \n",
       "0  Denmark   57.05N    10.33E  \n",
       "1  Denmark   57.05N    10.33E  \n",
       "2  Denmark   57.05N    10.33E  \n",
       "3  Denmark   57.05N    10.33E  \n",
       "4  Denmark   57.05N    10.33E  "
      ]
     },
     "execution_count": 14,
     "metadata": {},
     "output_type": "execute_result"
    }
   ],
   "source": [
    "df_temperature.limit(5).toPandas()"
   ]
  },
  {
   "cell_type": "code",
   "execution_count": 15,
   "metadata": {
    "editable": true
   },
   "outputs": [
    {
     "name": "stdout",
     "output_type": "stream",
     "text": [
      "root\n",
      " |-- dt: string (nullable = true)\n",
      " |-- AverageTemperature: string (nullable = true)\n",
      " |-- AverageTemperatureUncertainty: string (nullable = true)\n",
      " |-- City: string (nullable = true)\n",
      " |-- Country: string (nullable = true)\n",
      " |-- Latitude: string (nullable = true)\n",
      " |-- Longitude: string (nullable = true)\n",
      "\n"
     ]
    }
   ],
   "source": [
    "df_temperature.printSchema()"
   ]
  },
  {
   "cell_type": "markdown",
   "metadata": {
    "editable": true
   },
   "source": [
    "#### UNData - National accounts"
   ]
  },
  {
   "cell_type": "markdown",
   "metadata": {
    "editable": true
   },
   "source": [
    "(Source: http://data.un.org/)"
   ]
  },
  {
   "cell_type": "markdown",
   "metadata": {
    "editable": true
   },
   "source": [
    "I also wanted to have an idea of the potential affluency of the passenger, so I'm going to use the UNData site's \"National accounts\" data set to extract the per-capita GPD of the passenger's country of origin. For some reason `SparkContext` doesn't like the file name (probably the spaces) so I had to download it manually."
   ]
  },
  {
   "cell_type": "code",
   "execution_count": 16,
   "metadata": {
    "editable": true
   },
   "outputs": [],
   "source": [
    "response = requests.get(\"http://data.un.org/_Docs/SYB/CSV/SYB64_230_202110_GDP%20and%20GDP%20Per%20Capita.csv\", stream=True)"
   ]
  },
  {
   "cell_type": "code",
   "execution_count": 17,
   "metadata": {
    "editable": true
   },
   "outputs": [],
   "source": [
    "with open('SYB64_230_202110_GDP_and_GDP_Per_Capita.csv', \"w\") as f:\n",
    "    f.writelines(map(lambda l: f\"{l.decode('latin1')}\\n\", islice(response.iter_lines(), 1, None)))  # We need to drop the first extra line"
   ]
  },
  {
   "cell_type": "code",
   "execution_count": 18,
   "metadata": {
    "editable": true
   },
   "outputs": [],
   "source": [
    "df_national_accounts = spark.read.csv(\"SYB64_230_202110_GDP_and_GDP_Per_Capita.csv\", header=True)"
   ]
  },
  {
   "cell_type": "code",
   "execution_count": 19,
   "metadata": {
    "editable": true
   },
   "outputs": [
    {
     "data": {
      "text/html": [
       "<div>\n",
       "<style scoped>\n",
       "    .dataframe tbody tr th:only-of-type {\n",
       "        vertical-align: middle;\n",
       "    }\n",
       "\n",
       "    .dataframe tbody tr th {\n",
       "        vertical-align: top;\n",
       "    }\n",
       "\n",
       "    .dataframe thead th {\n",
       "        text-align: right;\n",
       "    }\n",
       "</style>\n",
       "<table border=\"1\" class=\"dataframe\">\n",
       "  <thead>\n",
       "    <tr style=\"text-align: right;\">\n",
       "      <th></th>\n",
       "      <th>Region/Country/Area</th>\n",
       "      <th>_c1</th>\n",
       "      <th>Year</th>\n",
       "      <th>Series</th>\n",
       "      <th>Value</th>\n",
       "      <th>Footnotes</th>\n",
       "      <th>Source</th>\n",
       "    </tr>\n",
       "  </thead>\n",
       "  <tbody>\n",
       "    <tr>\n",
       "      <th>0</th>\n",
       "      <td>1</td>\n",
       "      <td>Total, all countries or areas</td>\n",
       "      <td>1995</td>\n",
       "      <td>GDP in current prices (millions of US dollars)</td>\n",
       "      <td>31,140,783</td>\n",
       "      <td>None</td>\n",
       "      <td>United Nations Statistics Division, New York, ...</td>\n",
       "    </tr>\n",
       "    <tr>\n",
       "      <th>1</th>\n",
       "      <td>1</td>\n",
       "      <td>Total, all countries or areas</td>\n",
       "      <td>2005</td>\n",
       "      <td>GDP in current prices (millions of US dollars)</td>\n",
       "      <td>47,623,151</td>\n",
       "      <td>None</td>\n",
       "      <td>United Nations Statistics Division, New York, ...</td>\n",
       "    </tr>\n",
       "    <tr>\n",
       "      <th>2</th>\n",
       "      <td>1</td>\n",
       "      <td>Total, all countries or areas</td>\n",
       "      <td>2010</td>\n",
       "      <td>GDP in current prices (millions of US dollars)</td>\n",
       "      <td>66,272,559</td>\n",
       "      <td>None</td>\n",
       "      <td>United Nations Statistics Division, New York, ...</td>\n",
       "    </tr>\n",
       "    <tr>\n",
       "      <th>3</th>\n",
       "      <td>1</td>\n",
       "      <td>Total, all countries or areas</td>\n",
       "      <td>2015</td>\n",
       "      <td>GDP in current prices (millions of US dollars)</td>\n",
       "      <td>74,985,744</td>\n",
       "      <td>None</td>\n",
       "      <td>United Nations Statistics Division, New York, ...</td>\n",
       "    </tr>\n",
       "    <tr>\n",
       "      <th>4</th>\n",
       "      <td>1</td>\n",
       "      <td>Total, all countries or areas</td>\n",
       "      <td>2017</td>\n",
       "      <td>GDP in current prices (millions of US dollars)</td>\n",
       "      <td>81,056,929</td>\n",
       "      <td>None</td>\n",
       "      <td>United Nations Statistics Division, New York, ...</td>\n",
       "    </tr>\n",
       "  </tbody>\n",
       "</table>\n",
       "</div>"
      ],
      "text/plain": [
       "  Region/Country/Area                            _c1  Year  \\\n",
       "0                   1  Total, all countries or areas  1995   \n",
       "1                   1  Total, all countries or areas  2005   \n",
       "2                   1  Total, all countries or areas  2010   \n",
       "3                   1  Total, all countries or areas  2015   \n",
       "4                   1  Total, all countries or areas  2017   \n",
       "\n",
       "                                           Series       Value Footnotes  \\\n",
       "0  GDP in current prices (millions of US dollars)  31,140,783      None   \n",
       "1  GDP in current prices (millions of US dollars)  47,623,151      None   \n",
       "2  GDP in current prices (millions of US dollars)  66,272,559      None   \n",
       "3  GDP in current prices (millions of US dollars)  74,985,744      None   \n",
       "4  GDP in current prices (millions of US dollars)  81,056,929      None   \n",
       "\n",
       "                                              Source  \n",
       "0  United Nations Statistics Division, New York, ...  \n",
       "1  United Nations Statistics Division, New York, ...  \n",
       "2  United Nations Statistics Division, New York, ...  \n",
       "3  United Nations Statistics Division, New York, ...  \n",
       "4  United Nations Statistics Division, New York, ...  "
      ]
     },
     "execution_count": 19,
     "metadata": {},
     "output_type": "execute_result"
    }
   ],
   "source": [
    "df_national_accounts.limit(5).toPandas()"
   ]
  },
  {
   "cell_type": "code",
   "execution_count": 20,
   "metadata": {
    "editable": true
   },
   "outputs": [
    {
     "name": "stdout",
     "output_type": "stream",
     "text": [
      "root\n",
      " |-- Region/Country/Area: string (nullable = true)\n",
      " |-- _c1: string (nullable = true)\n",
      " |-- Year: string (nullable = true)\n",
      " |-- Series: string (nullable = true)\n",
      " |-- Value: string (nullable = true)\n",
      " |-- Footnotes: string (nullable = true)\n",
      " |-- Source: string (nullable = true)\n",
      "\n"
     ]
    }
   ],
   "source": [
    "df_national_accounts.printSchema()"
   ]
  },
  {
   "cell_type": "markdown",
   "metadata": {
    "editable": true
   },
   "source": [
    "#### Airport Code Table"
   ]
  },
  {
   "cell_type": "markdown",
   "metadata": {
    "editable": true
   },
   "source": [
    "(Source: https://datahub.io/core/airport-codes#data)"
   ]
  },
  {
   "cell_type": "markdown",
   "metadata": {
    "editable": true
   },
   "source": [
    "I want to focus just on airports, so I used this airport table alognside additional information to estimate the airport through which passenger ingressed the country. I used the city (municipality) as the link between the port (identified by the CBP code) and the airport. "
   ]
  },
  {
   "cell_type": "code",
   "execution_count": 21,
   "metadata": {
    "editable": true
   },
   "outputs": [],
   "source": [
    "df_airports = spark.read.csv(\"airport-codes_csv.csv\", header=True)"
   ]
  },
  {
   "cell_type": "code",
   "execution_count": 22,
   "metadata": {
    "editable": true
   },
   "outputs": [
    {
     "data": {
      "text/html": [
       "<div>\n",
       "<style scoped>\n",
       "    .dataframe tbody tr th:only-of-type {\n",
       "        vertical-align: middle;\n",
       "    }\n",
       "\n",
       "    .dataframe tbody tr th {\n",
       "        vertical-align: top;\n",
       "    }\n",
       "\n",
       "    .dataframe thead th {\n",
       "        text-align: right;\n",
       "    }\n",
       "</style>\n",
       "<table border=\"1\" class=\"dataframe\">\n",
       "  <thead>\n",
       "    <tr style=\"text-align: right;\">\n",
       "      <th></th>\n",
       "      <th>ident</th>\n",
       "      <th>type</th>\n",
       "      <th>name</th>\n",
       "      <th>elevation_ft</th>\n",
       "      <th>continent</th>\n",
       "      <th>iso_country</th>\n",
       "      <th>iso_region</th>\n",
       "      <th>municipality</th>\n",
       "      <th>gps_code</th>\n",
       "      <th>iata_code</th>\n",
       "      <th>local_code</th>\n",
       "      <th>coordinates</th>\n",
       "    </tr>\n",
       "  </thead>\n",
       "  <tbody>\n",
       "    <tr>\n",
       "      <th>0</th>\n",
       "      <td>00A</td>\n",
       "      <td>heliport</td>\n",
       "      <td>Total Rf Heliport</td>\n",
       "      <td>11</td>\n",
       "      <td>NA</td>\n",
       "      <td>US</td>\n",
       "      <td>US-PA</td>\n",
       "      <td>Bensalem</td>\n",
       "      <td>00A</td>\n",
       "      <td>None</td>\n",
       "      <td>00A</td>\n",
       "      <td>-74.93360137939453, 40.07080078125</td>\n",
       "    </tr>\n",
       "    <tr>\n",
       "      <th>1</th>\n",
       "      <td>00AA</td>\n",
       "      <td>small_airport</td>\n",
       "      <td>Aero B Ranch Airport</td>\n",
       "      <td>3435</td>\n",
       "      <td>NA</td>\n",
       "      <td>US</td>\n",
       "      <td>US-KS</td>\n",
       "      <td>Leoti</td>\n",
       "      <td>00AA</td>\n",
       "      <td>None</td>\n",
       "      <td>00AA</td>\n",
       "      <td>-101.473911, 38.704022</td>\n",
       "    </tr>\n",
       "    <tr>\n",
       "      <th>2</th>\n",
       "      <td>00AK</td>\n",
       "      <td>small_airport</td>\n",
       "      <td>Lowell Field</td>\n",
       "      <td>450</td>\n",
       "      <td>NA</td>\n",
       "      <td>US</td>\n",
       "      <td>US-AK</td>\n",
       "      <td>Anchor Point</td>\n",
       "      <td>00AK</td>\n",
       "      <td>None</td>\n",
       "      <td>00AK</td>\n",
       "      <td>-151.695999146, 59.94919968</td>\n",
       "    </tr>\n",
       "    <tr>\n",
       "      <th>3</th>\n",
       "      <td>00AL</td>\n",
       "      <td>small_airport</td>\n",
       "      <td>Epps Airpark</td>\n",
       "      <td>820</td>\n",
       "      <td>NA</td>\n",
       "      <td>US</td>\n",
       "      <td>US-AL</td>\n",
       "      <td>Harvest</td>\n",
       "      <td>00AL</td>\n",
       "      <td>None</td>\n",
       "      <td>00AL</td>\n",
       "      <td>-86.77030181884766, 34.86479949951172</td>\n",
       "    </tr>\n",
       "    <tr>\n",
       "      <th>4</th>\n",
       "      <td>00AR</td>\n",
       "      <td>closed</td>\n",
       "      <td>Newport Hospital &amp; Clinic Heliport</td>\n",
       "      <td>237</td>\n",
       "      <td>NA</td>\n",
       "      <td>US</td>\n",
       "      <td>US-AR</td>\n",
       "      <td>Newport</td>\n",
       "      <td>None</td>\n",
       "      <td>None</td>\n",
       "      <td>None</td>\n",
       "      <td>-91.254898, 35.6087</td>\n",
       "    </tr>\n",
       "    <tr>\n",
       "      <th>5</th>\n",
       "      <td>00AS</td>\n",
       "      <td>small_airport</td>\n",
       "      <td>Fulton Airport</td>\n",
       "      <td>1100</td>\n",
       "      <td>NA</td>\n",
       "      <td>US</td>\n",
       "      <td>US-OK</td>\n",
       "      <td>Alex</td>\n",
       "      <td>00AS</td>\n",
       "      <td>None</td>\n",
       "      <td>00AS</td>\n",
       "      <td>-97.8180194, 34.9428028</td>\n",
       "    </tr>\n",
       "    <tr>\n",
       "      <th>6</th>\n",
       "      <td>00AZ</td>\n",
       "      <td>small_airport</td>\n",
       "      <td>Cordes Airport</td>\n",
       "      <td>3810</td>\n",
       "      <td>NA</td>\n",
       "      <td>US</td>\n",
       "      <td>US-AZ</td>\n",
       "      <td>Cordes</td>\n",
       "      <td>00AZ</td>\n",
       "      <td>None</td>\n",
       "      <td>00AZ</td>\n",
       "      <td>-112.16500091552734, 34.305599212646484</td>\n",
       "    </tr>\n",
       "    <tr>\n",
       "      <th>7</th>\n",
       "      <td>00CA</td>\n",
       "      <td>small_airport</td>\n",
       "      <td>Goldstone /Gts/ Airport</td>\n",
       "      <td>3038</td>\n",
       "      <td>NA</td>\n",
       "      <td>US</td>\n",
       "      <td>US-CA</td>\n",
       "      <td>Barstow</td>\n",
       "      <td>00CA</td>\n",
       "      <td>None</td>\n",
       "      <td>00CA</td>\n",
       "      <td>-116.888000488, 35.350498199499995</td>\n",
       "    </tr>\n",
       "    <tr>\n",
       "      <th>8</th>\n",
       "      <td>00CL</td>\n",
       "      <td>small_airport</td>\n",
       "      <td>Williams Ag Airport</td>\n",
       "      <td>87</td>\n",
       "      <td>NA</td>\n",
       "      <td>US</td>\n",
       "      <td>US-CA</td>\n",
       "      <td>Biggs</td>\n",
       "      <td>00CL</td>\n",
       "      <td>None</td>\n",
       "      <td>00CL</td>\n",
       "      <td>-121.763427, 39.427188</td>\n",
       "    </tr>\n",
       "    <tr>\n",
       "      <th>9</th>\n",
       "      <td>00CN</td>\n",
       "      <td>heliport</td>\n",
       "      <td>Kitchen Creek Helibase Heliport</td>\n",
       "      <td>3350</td>\n",
       "      <td>NA</td>\n",
       "      <td>US</td>\n",
       "      <td>US-CA</td>\n",
       "      <td>Pine Valley</td>\n",
       "      <td>00CN</td>\n",
       "      <td>None</td>\n",
       "      <td>00CN</td>\n",
       "      <td>-116.4597417, 32.7273736</td>\n",
       "    </tr>\n",
       "  </tbody>\n",
       "</table>\n",
       "</div>"
      ],
      "text/plain": [
       "  ident           type                                name elevation_ft  \\\n",
       "0   00A       heliport                   Total Rf Heliport           11   \n",
       "1  00AA  small_airport                Aero B Ranch Airport         3435   \n",
       "2  00AK  small_airport                        Lowell Field          450   \n",
       "3  00AL  small_airport                        Epps Airpark          820   \n",
       "4  00AR         closed  Newport Hospital & Clinic Heliport          237   \n",
       "5  00AS  small_airport                      Fulton Airport         1100   \n",
       "6  00AZ  small_airport                      Cordes Airport         3810   \n",
       "7  00CA  small_airport             Goldstone /Gts/ Airport         3038   \n",
       "8  00CL  small_airport                 Williams Ag Airport           87   \n",
       "9  00CN       heliport     Kitchen Creek Helibase Heliport         3350   \n",
       "\n",
       "  continent iso_country iso_region  municipality gps_code iata_code  \\\n",
       "0        NA          US      US-PA      Bensalem      00A      None   \n",
       "1        NA          US      US-KS         Leoti     00AA      None   \n",
       "2        NA          US      US-AK  Anchor Point     00AK      None   \n",
       "3        NA          US      US-AL       Harvest     00AL      None   \n",
       "4        NA          US      US-AR       Newport     None      None   \n",
       "5        NA          US      US-OK          Alex     00AS      None   \n",
       "6        NA          US      US-AZ        Cordes     00AZ      None   \n",
       "7        NA          US      US-CA       Barstow     00CA      None   \n",
       "8        NA          US      US-CA         Biggs     00CL      None   \n",
       "9        NA          US      US-CA   Pine Valley     00CN      None   \n",
       "\n",
       "  local_code                              coordinates  \n",
       "0        00A       -74.93360137939453, 40.07080078125  \n",
       "1       00AA                   -101.473911, 38.704022  \n",
       "2       00AK              -151.695999146, 59.94919968  \n",
       "3       00AL    -86.77030181884766, 34.86479949951172  \n",
       "4       None                      -91.254898, 35.6087  \n",
       "5       00AS                  -97.8180194, 34.9428028  \n",
       "6       00AZ  -112.16500091552734, 34.305599212646484  \n",
       "7       00CA       -116.888000488, 35.350498199499995  \n",
       "8       00CL                   -121.763427, 39.427188  \n",
       "9       00CN                 -116.4597417, 32.7273736  "
      ]
     },
     "execution_count": 22,
     "metadata": {},
     "output_type": "execute_result"
    }
   ],
   "source": [
    "df_airports.limit(10).toPandas()"
   ]
  },
  {
   "cell_type": "code",
   "execution_count": 23,
   "metadata": {
    "editable": true
   },
   "outputs": [
    {
     "name": "stdout",
     "output_type": "stream",
     "text": [
      "root\n",
      " |-- ident: string (nullable = true)\n",
      " |-- type: string (nullable = true)\n",
      " |-- name: string (nullable = true)\n",
      " |-- elevation_ft: string (nullable = true)\n",
      " |-- continent: string (nullable = true)\n",
      " |-- iso_country: string (nullable = true)\n",
      " |-- iso_region: string (nullable = true)\n",
      " |-- municipality: string (nullable = true)\n",
      " |-- gps_code: string (nullable = true)\n",
      " |-- iata_code: string (nullable = true)\n",
      " |-- local_code: string (nullable = true)\n",
      " |-- coordinates: string (nullable = true)\n",
      "\n"
     ]
    }
   ],
   "source": [
    "df_airports.printSchema()"
   ]
  },
  {
   "cell_type": "markdown",
   "metadata": {
    "editable": true
   },
   "source": [
    "#### National And Official Languages"
   ]
  },
  {
   "cell_type": "markdown",
   "metadata": {
    "editable": true
   },
   "source": [
    "(Source: https://github.com/OpenBookPrices/country-data)"
   ]
  },
  {
   "cell_type": "markdown",
   "metadata": {
    "editable": true
   },
   "source": [
    "As I mentioned in the introduction, one of the objectives of the analysis was to provide drivers with the best culture/language fit with the passengers, I combined the information from this source with the i94 data to determine the nationality and language of the passenger."
   ]
  },
  {
   "cell_type": "markdown",
   "metadata": {
    "editable": true
   },
   "source": [
    "##### Country"
   ]
  },
  {
   "cell_type": "code",
   "execution_count": 24,
   "metadata": {
    "editable": true
   },
   "outputs": [],
   "source": [
    "spark.sparkContext.addFile(\"https://raw.githubusercontent.com/OpenBookPrices/country-data/master/data/countries.csv\")"
   ]
  },
  {
   "cell_type": "code",
   "execution_count": 25,
   "metadata": {
    "editable": true
   },
   "outputs": [],
   "source": [
    "df_countries = spark.read.csv(f\"file://{SparkFiles.get('countries.csv')}\", header=True)"
   ]
  },
  {
   "cell_type": "code",
   "execution_count": 26,
   "metadata": {
    "editable": true
   },
   "outputs": [
    {
     "data": {
      "text/html": [
       "<div>\n",
       "<style scoped>\n",
       "    .dataframe tbody tr th:only-of-type {\n",
       "        vertical-align: middle;\n",
       "    }\n",
       "\n",
       "    .dataframe tbody tr th {\n",
       "        vertical-align: top;\n",
       "    }\n",
       "\n",
       "    .dataframe thead th {\n",
       "        text-align: right;\n",
       "    }\n",
       "</style>\n",
       "<table border=\"1\" class=\"dataframe\">\n",
       "  <thead>\n",
       "    <tr style=\"text-align: right;\">\n",
       "      <th></th>\n",
       "      <th>name</th>\n",
       "      <th>alpha2</th>\n",
       "      <th>alpha3</th>\n",
       "      <th>ccTLD</th>\n",
       "      <th>countryCallingCodes</th>\n",
       "      <th>currencies</th>\n",
       "      <th>emoji</th>\n",
       "      <th>ioc</th>\n",
       "      <th>languages</th>\n",
       "      <th>status</th>\n",
       "    </tr>\n",
       "  </thead>\n",
       "  <tbody>\n",
       "    <tr>\n",
       "      <th>0</th>\n",
       "      <td>Afghanistan</td>\n",
       "      <td>AF</td>\n",
       "      <td>AFG</td>\n",
       "      <td>None</td>\n",
       "      <td>+93</td>\n",
       "      <td>AFN</td>\n",
       "      <td>🇦🇫</td>\n",
       "      <td>AFG</td>\n",
       "      <td>pus</td>\n",
       "      <td>assigned</td>\n",
       "    </tr>\n",
       "    <tr>\n",
       "      <th>1</th>\n",
       "      <td>Albania</td>\n",
       "      <td>AL</td>\n",
       "      <td>ALB</td>\n",
       "      <td>None</td>\n",
       "      <td>+355</td>\n",
       "      <td>ALL</td>\n",
       "      <td>🇦🇱</td>\n",
       "      <td>ALB</td>\n",
       "      <td>sqi</td>\n",
       "      <td>assigned</td>\n",
       "    </tr>\n",
       "    <tr>\n",
       "      <th>2</th>\n",
       "      <td>Algeria</td>\n",
       "      <td>DZ</td>\n",
       "      <td>DZA</td>\n",
       "      <td>None</td>\n",
       "      <td>+213</td>\n",
       "      <td>DZD</td>\n",
       "      <td>🇩🇿</td>\n",
       "      <td>ALG</td>\n",
       "      <td>ara</td>\n",
       "      <td>assigned</td>\n",
       "    </tr>\n",
       "    <tr>\n",
       "      <th>3</th>\n",
       "      <td>American Samoa</td>\n",
       "      <td>AS</td>\n",
       "      <td>ASM</td>\n",
       "      <td>None</td>\n",
       "      <td>+1 684</td>\n",
       "      <td>USD</td>\n",
       "      <td>🇦🇸</td>\n",
       "      <td>ASA</td>\n",
       "      <td>eng,smo</td>\n",
       "      <td>assigned</td>\n",
       "    </tr>\n",
       "    <tr>\n",
       "      <th>4</th>\n",
       "      <td>Andorra</td>\n",
       "      <td>AD</td>\n",
       "      <td>AND</td>\n",
       "      <td>None</td>\n",
       "      <td>+376</td>\n",
       "      <td>EUR</td>\n",
       "      <td>🇦🇩</td>\n",
       "      <td>AND</td>\n",
       "      <td>cat</td>\n",
       "      <td>assigned</td>\n",
       "    </tr>\n",
       "    <tr>\n",
       "      <th>5</th>\n",
       "      <td>Angola</td>\n",
       "      <td>AO</td>\n",
       "      <td>AGO</td>\n",
       "      <td>None</td>\n",
       "      <td>+244</td>\n",
       "      <td>AOA</td>\n",
       "      <td>🇦🇴</td>\n",
       "      <td>ANG</td>\n",
       "      <td>por</td>\n",
       "      <td>assigned</td>\n",
       "    </tr>\n",
       "    <tr>\n",
       "      <th>6</th>\n",
       "      <td>Anguilla</td>\n",
       "      <td>AI</td>\n",
       "      <td>AIA</td>\n",
       "      <td>None</td>\n",
       "      <td>+1 264</td>\n",
       "      <td>XCD</td>\n",
       "      <td>🇦🇮</td>\n",
       "      <td>None</td>\n",
       "      <td>eng</td>\n",
       "      <td>assigned</td>\n",
       "    </tr>\n",
       "    <tr>\n",
       "      <th>7</th>\n",
       "      <td>Antarctica</td>\n",
       "      <td>AQ</td>\n",
       "      <td>ATA</td>\n",
       "      <td>None</td>\n",
       "      <td>+672</td>\n",
       "      <td>None</td>\n",
       "      <td>🇦🇶</td>\n",
       "      <td>None</td>\n",
       "      <td>None</td>\n",
       "      <td>assigned</td>\n",
       "    </tr>\n",
       "    <tr>\n",
       "      <th>8</th>\n",
       "      <td>Antigua And Barbuda</td>\n",
       "      <td>AG</td>\n",
       "      <td>ATG</td>\n",
       "      <td>None</td>\n",
       "      <td>+1 268</td>\n",
       "      <td>XCD</td>\n",
       "      <td>🇦🇬</td>\n",
       "      <td>ANT</td>\n",
       "      <td>eng</td>\n",
       "      <td>assigned</td>\n",
       "    </tr>\n",
       "    <tr>\n",
       "      <th>9</th>\n",
       "      <td>Argentina</td>\n",
       "      <td>AR</td>\n",
       "      <td>ARG</td>\n",
       "      <td>None</td>\n",
       "      <td>+54</td>\n",
       "      <td>ARS</td>\n",
       "      <td>🇦🇷</td>\n",
       "      <td>ARG</td>\n",
       "      <td>spa</td>\n",
       "      <td>assigned</td>\n",
       "    </tr>\n",
       "  </tbody>\n",
       "</table>\n",
       "</div>"
      ],
      "text/plain": [
       "                  name alpha2 alpha3 ccTLD countryCallingCodes currencies  \\\n",
       "0          Afghanistan     AF    AFG  None                 +93        AFN   \n",
       "1              Albania     AL    ALB  None                +355        ALL   \n",
       "2              Algeria     DZ    DZA  None                +213        DZD   \n",
       "3       American Samoa     AS    ASM  None              +1 684        USD   \n",
       "4              Andorra     AD    AND  None                +376        EUR   \n",
       "5               Angola     AO    AGO  None                +244        AOA   \n",
       "6             Anguilla     AI    AIA  None              +1 264        XCD   \n",
       "7           Antarctica     AQ    ATA  None                +672       None   \n",
       "8  Antigua And Barbuda     AG    ATG  None              +1 268        XCD   \n",
       "9            Argentina     AR    ARG  None                 +54        ARS   \n",
       "\n",
       "  emoji   ioc languages    status  \n",
       "0    🇦🇫   AFG       pus  assigned  \n",
       "1    🇦🇱   ALB       sqi  assigned  \n",
       "2    🇩🇿   ALG       ara  assigned  \n",
       "3    🇦🇸   ASA   eng,smo  assigned  \n",
       "4    🇦🇩   AND       cat  assigned  \n",
       "5    🇦🇴   ANG       por  assigned  \n",
       "6    🇦🇮  None       eng  assigned  \n",
       "7    🇦🇶  None      None  assigned  \n",
       "8    🇦🇬   ANT       eng  assigned  \n",
       "9    🇦🇷   ARG       spa  assigned  "
      ]
     },
     "execution_count": 26,
     "metadata": {},
     "output_type": "execute_result"
    }
   ],
   "source": [
    "df_countries.limit(10).toPandas()"
   ]
  },
  {
   "cell_type": "code",
   "execution_count": 27,
   "metadata": {
    "editable": true
   },
   "outputs": [
    {
     "name": "stdout",
     "output_type": "stream",
     "text": [
      "root\n",
      " |-- name: string (nullable = true)\n",
      " |-- alpha2: string (nullable = true)\n",
      " |-- alpha3: string (nullable = true)\n",
      " |-- ccTLD: string (nullable = true)\n",
      " |-- countryCallingCodes: string (nullable = true)\n",
      " |-- currencies: string (nullable = true)\n",
      " |-- emoji: string (nullable = true)\n",
      " |-- ioc: string (nullable = true)\n",
      " |-- languages: string (nullable = true)\n",
      " |-- status: string (nullable = true)\n",
      "\n"
     ]
    }
   ],
   "source": [
    "df_countries.printSchema()"
   ]
  },
  {
   "cell_type": "markdown",
   "metadata": {
    "editable": true
   },
   "source": [
    "##### Language"
   ]
  },
  {
   "cell_type": "code",
   "execution_count": 28,
   "metadata": {
    "editable": true
   },
   "outputs": [],
   "source": [
    "spark.sparkContext.addFile(\"https://raw.githubusercontent.com/OpenBookPrices/country-data/master/data/languages.csv\")"
   ]
  },
  {
   "cell_type": "code",
   "execution_count": 29,
   "metadata": {
    "editable": true
   },
   "outputs": [],
   "source": [
    "df_languages = spark.read.csv(f\"file://{SparkFiles.get('languages.csv')}\", header=True)"
   ]
  },
  {
   "cell_type": "code",
   "execution_count": 30,
   "metadata": {
    "editable": true
   },
   "outputs": [
    {
     "data": {
      "text/html": [
       "<div>\n",
       "<style scoped>\n",
       "    .dataframe tbody tr th:only-of-type {\n",
       "        vertical-align: middle;\n",
       "    }\n",
       "\n",
       "    .dataframe tbody tr th {\n",
       "        vertical-align: top;\n",
       "    }\n",
       "\n",
       "    .dataframe thead th {\n",
       "        text-align: right;\n",
       "    }\n",
       "</style>\n",
       "<table border=\"1\" class=\"dataframe\">\n",
       "  <thead>\n",
       "    <tr style=\"text-align: right;\">\n",
       "      <th></th>\n",
       "      <th>name</th>\n",
       "      <th>alpha2</th>\n",
       "      <th>alpha3</th>\n",
       "      <th>bibliographic</th>\n",
       "    </tr>\n",
       "  </thead>\n",
       "  <tbody>\n",
       "    <tr>\n",
       "      <th>0</th>\n",
       "      <td>Abkhazian</td>\n",
       "      <td>ab</td>\n",
       "      <td>abk</td>\n",
       "      <td>None</td>\n",
       "    </tr>\n",
       "    <tr>\n",
       "      <th>1</th>\n",
       "      <td>Achinese</td>\n",
       "      <td>None</td>\n",
       "      <td>ace</td>\n",
       "      <td>None</td>\n",
       "    </tr>\n",
       "    <tr>\n",
       "      <th>2</th>\n",
       "      <td>Acoli</td>\n",
       "      <td>None</td>\n",
       "      <td>ach</td>\n",
       "      <td>None</td>\n",
       "    </tr>\n",
       "    <tr>\n",
       "      <th>3</th>\n",
       "      <td>Adangme</td>\n",
       "      <td>None</td>\n",
       "      <td>ada</td>\n",
       "      <td>None</td>\n",
       "    </tr>\n",
       "    <tr>\n",
       "      <th>4</th>\n",
       "      <td>Adygei</td>\n",
       "      <td>None</td>\n",
       "      <td>ady</td>\n",
       "      <td>None</td>\n",
       "    </tr>\n",
       "    <tr>\n",
       "      <th>5</th>\n",
       "      <td>Adyghe</td>\n",
       "      <td>None</td>\n",
       "      <td>ady</td>\n",
       "      <td>None</td>\n",
       "    </tr>\n",
       "    <tr>\n",
       "      <th>6</th>\n",
       "      <td>Afar</td>\n",
       "      <td>aa</td>\n",
       "      <td>aar</td>\n",
       "      <td>None</td>\n",
       "    </tr>\n",
       "    <tr>\n",
       "      <th>7</th>\n",
       "      <td>Afrihili</td>\n",
       "      <td>None</td>\n",
       "      <td>afh</td>\n",
       "      <td>None</td>\n",
       "    </tr>\n",
       "    <tr>\n",
       "      <th>8</th>\n",
       "      <td>Afrikaans</td>\n",
       "      <td>af</td>\n",
       "      <td>afr</td>\n",
       "      <td>None</td>\n",
       "    </tr>\n",
       "    <tr>\n",
       "      <th>9</th>\n",
       "      <td>Afro-Asiatic languages</td>\n",
       "      <td>None</td>\n",
       "      <td>afa</td>\n",
       "      <td>None</td>\n",
       "    </tr>\n",
       "  </tbody>\n",
       "</table>\n",
       "</div>"
      ],
      "text/plain": [
       "                     name alpha2 alpha3 bibliographic\n",
       "0               Abkhazian     ab    abk          None\n",
       "1                Achinese   None    ace          None\n",
       "2                   Acoli   None    ach          None\n",
       "3                 Adangme   None    ada          None\n",
       "4                  Adygei   None    ady          None\n",
       "5                  Adyghe   None    ady          None\n",
       "6                    Afar     aa    aar          None\n",
       "7                Afrihili   None    afh          None\n",
       "8               Afrikaans     af    afr          None\n",
       "9  Afro-Asiatic languages   None    afa          None"
      ]
     },
     "execution_count": 30,
     "metadata": {},
     "output_type": "execute_result"
    }
   ],
   "source": [
    "df_languages.limit(10).toPandas()"
   ]
  },
  {
   "cell_type": "code",
   "execution_count": 31,
   "metadata": {
    "editable": true
   },
   "outputs": [
    {
     "name": "stdout",
     "output_type": "stream",
     "text": [
      "root\n",
      " |-- name: string (nullable = true)\n",
      " |-- alpha2: string (nullable = true)\n",
      " |-- alpha3: string (nullable = true)\n",
      " |-- bibliographic: string (nullable = true)\n",
      "\n"
     ]
    }
   ],
   "source": [
    "df_languages.printSchema()"
   ]
  },
  {
   "cell_type": "markdown",
   "metadata": {
    "editable": true
   },
   "source": [
    "## Step 2: Explore and Assess the Data"
   ]
  },
  {
   "cell_type": "markdown",
   "metadata": {
    "editable": true
   },
   "source": [
    "### I94 Immigration Data"
   ]
  },
  {
   "cell_type": "markdown",
   "metadata": {
    "editable": true
   },
   "source": [
    "Since the i94 immigration data is spread across multiple files according to their year and month, the first step is to list how many files are available to determine the possible timeframe of the analysis."
   ]
  },
  {
   "cell_type": "code",
   "execution_count": 32,
   "metadata": {
    "editable": true
   },
   "outputs": [],
   "source": [
    "i94_data_path = Path(\"../../data/18-83510-I94-Data-2016\")"
   ]
  },
  {
   "cell_type": "code",
   "execution_count": 33,
   "metadata": {
    "editable": true
   },
   "outputs": [
    {
     "data": {
      "text/plain": [
       "[PosixPath('../../data/18-83510-I94-Data-2016/i94_apr16_sub.sas7bdat'),\n",
       " PosixPath('../../data/18-83510-I94-Data-2016/i94_sep16_sub.sas7bdat'),\n",
       " PosixPath('../../data/18-83510-I94-Data-2016/i94_nov16_sub.sas7bdat'),\n",
       " PosixPath('../../data/18-83510-I94-Data-2016/i94_mar16_sub.sas7bdat'),\n",
       " PosixPath('../../data/18-83510-I94-Data-2016/i94_jun16_sub.sas7bdat'),\n",
       " PosixPath('../../data/18-83510-I94-Data-2016/i94_aug16_sub.sas7bdat'),\n",
       " PosixPath('../../data/18-83510-I94-Data-2016/i94_may16_sub.sas7bdat'),\n",
       " PosixPath('../../data/18-83510-I94-Data-2016/i94_jan16_sub.sas7bdat'),\n",
       " PosixPath('../../data/18-83510-I94-Data-2016/i94_oct16_sub.sas7bdat'),\n",
       " PosixPath('../../data/18-83510-I94-Data-2016/i94_jul16_sub.sas7bdat'),\n",
       " PosixPath('../../data/18-83510-I94-Data-2016/i94_feb16_sub.sas7bdat'),\n",
       " PosixPath('../../data/18-83510-I94-Data-2016/i94_dec16_sub.sas7bdat')]"
      ]
     },
     "execution_count": 33,
     "metadata": {},
     "output_type": "execute_result"
    }
   ],
   "source": [
    "list(i94_data_path.glob(\"**/*.sas7bdat\"))"
   ]
  },
  {
   "cell_type": "markdown",
   "metadata": {
    "editable": true
   },
   "source": [
    "As we can see, only information from 2016 is available so any other piece of time sensitive data would have to be compatible (or assumed to be). The next step is to analyze the state of the data available for each of the columns of interest. We're only going to analyze one of the files and assume the rest share the same characteristics."
   ]
  },
  {
   "cell_type": "markdown",
   "metadata": {
    "editable": true
   },
   "source": [
    "Due to S3 storage restrictions I had to limit the number of files read. I also selected only the relevant columns."
   ]
  },
  {
   "cell_type": "code",
   "execution_count": 34,
   "metadata": {
    "editable": true
   },
   "outputs": [],
   "source": [
    "df_i94_data = reduce(\n",
    "    lambda accum, df: accum.union(df),\n",
    "    map(\n",
    "        lambda f: spark.read.format(\"com.github.saurfang.sas.spark\").load(f).select(\n",
    "            [\"i94port\", \"i94cit\", \"arrdate\", \"i94mode\", \"biryear\", \"gender\"]\n",
    "        ),\n",
    "        [\n",
    "            \"../../data/18-83510-I94-Data-2016/i94_apr16_sub.sas7bdat\",\n",
    "            \"../../data/18-83510-I94-Data-2016/i94_may16_sub.sas7bdat\",\n",
    "        ]\n",
    "    )\n",
    ")"
   ]
  },
  {
   "cell_type": "code",
   "execution_count": 35,
   "metadata": {
    "editable": true
   },
   "outputs": [
    {
     "data": {
      "text/plain": [
       "['i94port', 'i94cit', 'arrdate', 'i94mode', 'biryear', 'gender']"
      ]
     },
     "execution_count": 35,
     "metadata": {},
     "output_type": "execute_result"
    }
   ],
   "source": [
    "df_i94_data.columns"
   ]
  },
  {
   "cell_type": "code",
   "execution_count": 36,
   "metadata": {
    "editable": true
   },
   "outputs": [
    {
     "data": {
      "text/plain": [
       "6540562"
      ]
     },
     "execution_count": 36,
     "metadata": {},
     "output_type": "execute_result"
    }
   ],
   "source": [
    "df_i94_data.count()  # Number of rows"
   ]
  },
  {
   "cell_type": "code",
   "execution_count": 37,
   "metadata": {
    "editable": true
   },
   "outputs": [
    {
     "name": "stdout",
     "output_type": "stream",
     "text": [
      "+--------------------------------------------+\n",
      "|count(CASE WHEN (i94mode = 1) THEN true END)|\n",
      "+--------------------------------------------+\n",
      "|                                     6301766|\n",
      "+--------------------------------------------+\n",
      "\n"
     ]
    }
   ],
   "source": [
    "df_i94_data.select([F.count(F.when(F.col(\"i94mode\") == 1, True))]).show()  # Number of rows for Air travel"
   ]
  },
  {
   "cell_type": "markdown",
   "metadata": {
    "editable": true
   },
   "source": [
    "There was no obvious global identifier for the I94 record, so I relied on a generated one."
   ]
  },
  {
   "cell_type": "markdown",
   "metadata": {
    "editable": true
   },
   "source": [
    "### The arrival date"
   ]
  },
  {
   "cell_type": "code",
   "execution_count": 38,
   "metadata": {
    "editable": true
   },
   "outputs": [
    {
     "data": {
      "text/html": [
       "<div>\n",
       "<style scoped>\n",
       "    .dataframe tbody tr th:only-of-type {\n",
       "        vertical-align: middle;\n",
       "    }\n",
       "\n",
       "    .dataframe tbody tr th {\n",
       "        vertical-align: top;\n",
       "    }\n",
       "\n",
       "    .dataframe thead th {\n",
       "        text-align: right;\n",
       "    }\n",
       "</style>\n",
       "<table border=\"1\" class=\"dataframe\">\n",
       "  <thead>\n",
       "    <tr style=\"text-align: right;\">\n",
       "      <th></th>\n",
       "      <th>arrdate</th>\n",
       "    </tr>\n",
       "  </thead>\n",
       "  <tbody>\n",
       "    <tr>\n",
       "      <th>0</th>\n",
       "      <td>20573.0</td>\n",
       "    </tr>\n",
       "    <tr>\n",
       "      <th>1</th>\n",
       "      <td>20551.0</td>\n",
       "    </tr>\n",
       "    <tr>\n",
       "      <th>2</th>\n",
       "      <td>20545.0</td>\n",
       "    </tr>\n",
       "    <tr>\n",
       "      <th>3</th>\n",
       "      <td>20545.0</td>\n",
       "    </tr>\n",
       "    <tr>\n",
       "      <th>4</th>\n",
       "      <td>20545.0</td>\n",
       "    </tr>\n",
       "  </tbody>\n",
       "</table>\n",
       "</div>"
      ],
      "text/plain": [
       "   arrdate\n",
       "0  20573.0\n",
       "1  20551.0\n",
       "2  20545.0\n",
       "3  20545.0\n",
       "4  20545.0"
      ]
     },
     "execution_count": 38,
     "metadata": {},
     "output_type": "execute_result"
    }
   ],
   "source": [
    "df_i94_data.select(\"arrdate\").limit(5).toPandas()"
   ]
  },
  {
   "cell_type": "markdown",
   "metadata": {
    "editable": true
   },
   "source": [
    "As mentioned in the Udacity forums, the \"arrdate\" represents the arrival date as the number of days since Jan 1st 1960."
   ]
  },
  {
   "cell_type": "code",
   "execution_count": 39,
   "metadata": {
    "editable": true
   },
   "outputs": [
    {
     "name": "stdout",
     "output_type": "stream",
     "text": [
      "+--------------------------------------------------------------------+\n",
      "|count(CASE WHEN (isnan(arrdate) OR (arrdate IS NULL)) THEN true END)|\n",
      "+--------------------------------------------------------------------+\n",
      "|                                                                   0|\n",
      "+--------------------------------------------------------------------+\n",
      "\n"
     ]
    }
   ],
   "source": [
    "df_i94_data.select([F.count(F.when(F.isnan(\"arrdate\") | F.isnull(\"arrdate\"), True))]).show()"
   ]
  },
  {
   "cell_type": "code",
   "execution_count": 40,
   "metadata": {
    "editable": true
   },
   "outputs": [
    {
     "name": "stdout",
     "output_type": "stream",
     "text": [
      "+----------+\n",
      "|   arrdate|\n",
      "+----------+\n",
      "|2016-04-29|\n",
      "|2016-04-07|\n",
      "|2016-04-01|\n",
      "|2016-04-01|\n",
      "|2016-04-01|\n",
      "|2016-04-01|\n",
      "|2016-04-01|\n",
      "|2016-04-01|\n",
      "|2016-04-01|\n",
      "|2016-04-01|\n",
      "+----------+\n",
      "\n"
     ]
    }
   ],
   "source": [
    "df_i94_data.withColumn(\"arrdate\", F.expr(\"date_add(to_date('1960-01-01'), arrdate)\")).select(\"arrdate\").limit(10).show()"
   ]
  },
  {
   "cell_type": "markdown",
   "metadata": {
    "editable": true
   },
   "source": [
    "#### Port of entry"
   ]
  },
  {
   "cell_type": "markdown",
   "metadata": {
    "editable": true
   },
   "source": [
    "The port of entry identification required the combination of multiple sources:\n",
    "\n",
    "* The `i94port` field in the i94 data set.\n",
    "* The CBP codes table.\n",
    "* The airport codes table."
   ]
  },
  {
   "cell_type": "markdown",
   "metadata": {
    "editable": true
   },
   "source": [
    "Since there was not a direct link between the port and the airport, I used the CBP code to determine a municipality, and from there I chose an airport based on this information. The first step is to split the locaiton from the CBP codes table to make it easier to join with the airports. "
   ]
  },
  {
   "cell_type": "code",
   "execution_count": 41,
   "metadata": {
    "editable": true
   },
   "outputs": [],
   "source": [
    "df_cbp_codes = df_cbp_codes\\\n",
    "    .withColumn(\"municipality\", F.udf(lambda s: s.split(\",\")[0].strip() if \",\" in s else None)(F.col(\"location\")))\\\n",
    "    .withColumn(\"state\", F.udf(lambda s: s.split(\",\")[1].strip() if \",\" in s else None)(F.col(\"location\")))"
   ]
  },
  {
   "cell_type": "code",
   "execution_count": 42,
   "metadata": {
    "editable": true
   },
   "outputs": [
    {
     "data": {
      "text/html": [
       "<div>\n",
       "<style scoped>\n",
       "    .dataframe tbody tr th:only-of-type {\n",
       "        vertical-align: middle;\n",
       "    }\n",
       "\n",
       "    .dataframe tbody tr th {\n",
       "        vertical-align: top;\n",
       "    }\n",
       "\n",
       "    .dataframe thead th {\n",
       "        text-align: right;\n",
       "    }\n",
       "</style>\n",
       "<table border=\"1\" class=\"dataframe\">\n",
       "  <thead>\n",
       "    <tr style=\"text-align: right;\">\n",
       "      <th></th>\n",
       "      <th>code</th>\n",
       "      <th>location</th>\n",
       "      <th>municipality</th>\n",
       "      <th>state</th>\n",
       "    </tr>\n",
       "  </thead>\n",
       "  <tbody>\n",
       "    <tr>\n",
       "      <th>0</th>\n",
       "      <td>ABE</td>\n",
       "      <td>Aberdeen, WA</td>\n",
       "      <td>Aberdeen</td>\n",
       "      <td>WA</td>\n",
       "    </tr>\n",
       "    <tr>\n",
       "      <th>1</th>\n",
       "      <td>ABG</td>\n",
       "      <td>Alburg, VT</td>\n",
       "      <td>Alburg</td>\n",
       "      <td>VT</td>\n",
       "    </tr>\n",
       "    <tr>\n",
       "      <th>2</th>\n",
       "      <td>ABQ</td>\n",
       "      <td>Albuquerque, NM</td>\n",
       "      <td>Albuquerque</td>\n",
       "      <td>NM</td>\n",
       "    </tr>\n",
       "    <tr>\n",
       "      <th>3</th>\n",
       "      <td>ABS</td>\n",
       "      <td>Alburg Springs, VT</td>\n",
       "      <td>Alburg Springs</td>\n",
       "      <td>VT</td>\n",
       "    </tr>\n",
       "    <tr>\n",
       "      <th>4</th>\n",
       "      <td>ADT</td>\n",
       "      <td>Amistad Dam, TX</td>\n",
       "      <td>Amistad Dam</td>\n",
       "      <td>TX</td>\n",
       "    </tr>\n",
       "  </tbody>\n",
       "</table>\n",
       "</div>"
      ],
      "text/plain": [
       "  code            location    municipality state\n",
       "0  ABE        Aberdeen, WA        Aberdeen    WA\n",
       "1  ABG          Alburg, VT          Alburg    VT\n",
       "2  ABQ     Albuquerque, NM     Albuquerque    NM\n",
       "3  ABS  Alburg Springs, VT  Alburg Springs    VT\n",
       "4  ADT     Amistad Dam, TX     Amistad Dam    TX"
      ]
     },
     "execution_count": 42,
     "metadata": {},
     "output_type": "execute_result"
    }
   ],
   "source": [
    "df_cbp_codes.limit(5).toPandas()"
   ]
  },
  {
   "cell_type": "markdown",
   "metadata": {
    "editable": true
   },
   "source": [
    "I was only interested in the international US airports, and I neeed to split the iso region to get US state, that was going to be used to link to a CBP code. Since there were multiple airports per municipality, I chose the first one. This is not entirely correct, but I couldn't find a definitive source of information that links the i94 information with a specific airport."
   ]
  },
  {
   "cell_type": "code",
   "execution_count": 43,
   "metadata": {
    "editable": true
   },
   "outputs": [],
   "source": [
    "municipality_state_window = Window.partitionBy(\"state\", \"municipality\").orderBy(F.asc(\"ident\"))"
   ]
  },
  {
   "cell_type": "code",
   "execution_count": 44,
   "metadata": {
    "editable": true
   },
   "outputs": [],
   "source": [
    "df_airports = df_airports\\\n",
    "    .filter(F.col(\"iso_country\") == \"US\")\\\n",
    "    .filter(F.col(\"type\") == \"large_airport\")\\\n",
    "    .filter(F.col(\"iata_code\").isNotNull())\\\n",
    "    .withColumn(\"state\", F.udf(lambda s: re.sub(r\"US-\", \"\", s))(F.col(\"iso_region\")))\\\n",
    "    .withColumn(\"row_number\", F.row_number().over(municipality_state_window))\\\n",
    "    .filter(F.col(\"row_number\") == 1)\\\n",
    "    .drop(\"row_number\")"
   ]
  },
  {
   "cell_type": "code",
   "execution_count": 45,
   "metadata": {
    "editable": true
   },
   "outputs": [
    {
     "data": {
      "text/html": [
       "<div>\n",
       "<style scoped>\n",
       "    .dataframe tbody tr th:only-of-type {\n",
       "        vertical-align: middle;\n",
       "    }\n",
       "\n",
       "    .dataframe tbody tr th {\n",
       "        vertical-align: top;\n",
       "    }\n",
       "\n",
       "    .dataframe thead th {\n",
       "        text-align: right;\n",
       "    }\n",
       "</style>\n",
       "<table border=\"1\" class=\"dataframe\">\n",
       "  <thead>\n",
       "    <tr style=\"text-align: right;\">\n",
       "      <th></th>\n",
       "      <th>ident</th>\n",
       "      <th>type</th>\n",
       "      <th>name</th>\n",
       "      <th>elevation_ft</th>\n",
       "      <th>continent</th>\n",
       "      <th>iso_country</th>\n",
       "      <th>iso_region</th>\n",
       "      <th>municipality</th>\n",
       "      <th>gps_code</th>\n",
       "      <th>iata_code</th>\n",
       "      <th>local_code</th>\n",
       "      <th>coordinates</th>\n",
       "      <th>state</th>\n",
       "    </tr>\n",
       "  </thead>\n",
       "  <tbody>\n",
       "    <tr>\n",
       "      <th>0</th>\n",
       "      <td>KIND</td>\n",
       "      <td>large_airport</td>\n",
       "      <td>Indianapolis International Airport</td>\n",
       "      <td>797</td>\n",
       "      <td>NA</td>\n",
       "      <td>US</td>\n",
       "      <td>US-IN</td>\n",
       "      <td>Indianapolis</td>\n",
       "      <td>KIND</td>\n",
       "      <td>IND</td>\n",
       "      <td>IND</td>\n",
       "      <td>-86.294403, 39.7173</td>\n",
       "      <td>IN</td>\n",
       "    </tr>\n",
       "    <tr>\n",
       "      <th>1</th>\n",
       "      <td>KMCI</td>\n",
       "      <td>large_airport</td>\n",
       "      <td>Kansas City International Airport</td>\n",
       "      <td>1026</td>\n",
       "      <td>NA</td>\n",
       "      <td>US</td>\n",
       "      <td>US-MO</td>\n",
       "      <td>Kansas City</td>\n",
       "      <td>KMCI</td>\n",
       "      <td>MCI</td>\n",
       "      <td>MCI</td>\n",
       "      <td>-94.713898, 39.2976</td>\n",
       "      <td>MO</td>\n",
       "    </tr>\n",
       "    <tr>\n",
       "      <th>2</th>\n",
       "      <td>KMCO</td>\n",
       "      <td>large_airport</td>\n",
       "      <td>Orlando International Airport</td>\n",
       "      <td>96</td>\n",
       "      <td>NA</td>\n",
       "      <td>US</td>\n",
       "      <td>US-FL</td>\n",
       "      <td>Orlando</td>\n",
       "      <td>KMCO</td>\n",
       "      <td>MCO</td>\n",
       "      <td>MCO</td>\n",
       "      <td>-81.30899810791016, 28.429399490356445</td>\n",
       "      <td>FL</td>\n",
       "    </tr>\n",
       "    <tr>\n",
       "      <th>3</th>\n",
       "      <td>KERI</td>\n",
       "      <td>large_airport</td>\n",
       "      <td>Erie International Tom Ridge Field</td>\n",
       "      <td>732</td>\n",
       "      <td>NA</td>\n",
       "      <td>US</td>\n",
       "      <td>US-PA</td>\n",
       "      <td>Erie</td>\n",
       "      <td>KERI</td>\n",
       "      <td>ERI</td>\n",
       "      <td>ERI</td>\n",
       "      <td>-80.1738667488, 42.0831270134</td>\n",
       "      <td>PA</td>\n",
       "    </tr>\n",
       "    <tr>\n",
       "      <th>4</th>\n",
       "      <td>KMGM</td>\n",
       "      <td>large_airport</td>\n",
       "      <td>Montgomery Regional (Dannelly Field) Airport</td>\n",
       "      <td>221</td>\n",
       "      <td>NA</td>\n",
       "      <td>US</td>\n",
       "      <td>US-AL</td>\n",
       "      <td>Montgomery</td>\n",
       "      <td>KMGM</td>\n",
       "      <td>MGM</td>\n",
       "      <td>MGM</td>\n",
       "      <td>-86.39399719, 32.30059814</td>\n",
       "      <td>AL</td>\n",
       "    </tr>\n",
       "  </tbody>\n",
       "</table>\n",
       "</div>"
      ],
      "text/plain": [
       "  ident           type                                          name  \\\n",
       "0  KIND  large_airport            Indianapolis International Airport   \n",
       "1  KMCI  large_airport             Kansas City International Airport   \n",
       "2  KMCO  large_airport                 Orlando International Airport   \n",
       "3  KERI  large_airport            Erie International Tom Ridge Field   \n",
       "4  KMGM  large_airport  Montgomery Regional (Dannelly Field) Airport   \n",
       "\n",
       "  elevation_ft continent iso_country iso_region  municipality gps_code  \\\n",
       "0          797        NA          US      US-IN  Indianapolis     KIND   \n",
       "1         1026        NA          US      US-MO   Kansas City     KMCI   \n",
       "2           96        NA          US      US-FL       Orlando     KMCO   \n",
       "3          732        NA          US      US-PA          Erie     KERI   \n",
       "4          221        NA          US      US-AL    Montgomery     KMGM   \n",
       "\n",
       "  iata_code local_code                             coordinates state  \n",
       "0       IND        IND                     -86.294403, 39.7173    IN  \n",
       "1       MCI        MCI                     -94.713898, 39.2976    MO  \n",
       "2       MCO        MCO  -81.30899810791016, 28.429399490356445    FL  \n",
       "3       ERI        ERI           -80.1738667488, 42.0831270134    PA  \n",
       "4       MGM        MGM               -86.39399719, 32.30059814    AL  "
      ]
     },
     "execution_count": 45,
     "metadata": {},
     "output_type": "execute_result"
    }
   ],
   "source": [
    "df_airports.limit(5).toPandas()"
   ]
  },
  {
   "cell_type": "code",
   "execution_count": 46,
   "metadata": {
    "editable": true
   },
   "outputs": [
    {
     "name": "stdout",
     "output_type": "stream",
     "text": [
      "+------------------------------------------------------------------+\n",
      "|count(CASE WHEN ((i94port = ) OR (i94port IS NULL)) THEN true END)|\n",
      "+------------------------------------------------------------------+\n",
      "|                                                                 0|\n",
      "+------------------------------------------------------------------+\n",
      "\n"
     ]
    }
   ],
   "source": [
    "df_i94_data.select([F.count(F.when((F.col(\"i94port\") == \"\") | F.isnull(\"i94port\"), True))]).show()"
   ]
  },
  {
   "cell_type": "markdown",
   "metadata": {
    "editable": true
   },
   "source": [
    "There were no missing entries for the port of entry (at least from the data perspective). The next step was to get the most common ports of entry to determine whether we can use the information (combined with other sources of data) or not."
   ]
  },
  {
   "cell_type": "code",
   "execution_count": 47,
   "metadata": {
    "editable": true
   },
   "outputs": [],
   "source": [
    "df_i94_data.createOrReplaceTempView(\"i94_data\")"
   ]
  },
  {
   "cell_type": "code",
   "execution_count": 48,
   "metadata": {
    "editable": true
   },
   "outputs": [
    {
     "name": "stdout",
     "output_type": "stream",
     "text": [
      "+-------+--------+\n",
      "|i94port|count(1)|\n",
      "+-------+--------+\n",
      "|    NYC| 1107406|\n",
      "|    MIA|  725672|\n",
      "|    LOS|  671710|\n",
      "|    SFR|  355210|\n",
      "|    HHW|  311961|\n",
      "|    CHI|  305348|\n",
      "|    NEW|  304263|\n",
      "|    ORL|  292313|\n",
      "|    HOU|  214967|\n",
      "|    ATL|  198455|\n",
      "|    AGA|  181375|\n",
      "|    WAS|  176069|\n",
      "|    LVG|  164176|\n",
      "|    FTL|  163759|\n",
      "|    DAL|  160198|\n",
      "|    BOS|  140514|\n",
      "|    SEA|   99822|\n",
      "|    DET|   74190|\n",
      "|    SAI|   56093|\n",
      "|    PHI|   51867|\n",
      "+-------+--------+\n",
      "only showing top 20 rows\n",
      "\n"
     ]
    }
   ],
   "source": [
    "spark.sql(\"\"\"\\\n",
    "SELECT i94port, COUNT(*)\n",
    "FROM i94_data\n",
    "WHERE i94mode == 1.0\n",
    "GROUP BY 1\n",
    "ORDER BY 2 DESC\n",
    "LIMIT 50\n",
    "\"\"\").show()"
   ]
  },
  {
   "cell_type": "markdown",
   "metadata": {
    "editable": true
   },
   "source": [
    "In order for this information to be useful I needed to translate the `i94port` codes into something we can use to identify the port. This information is provided in the `I94_SAS_Labels_Descriptions.SAS` file, but I've decided to use a clear source of CBP codes mentioned in the first section."
   ]
  },
  {
   "cell_type": "code",
   "execution_count": 49,
   "metadata": {
    "editable": true
   },
   "outputs": [],
   "source": [
    "df_cbp_codes.createOrReplaceTempView(\"df_cbp_codes\")"
   ]
  },
  {
   "cell_type": "code",
   "execution_count": 50,
   "metadata": {
    "editable": true
   },
   "outputs": [
    {
     "name": "stdout",
     "output_type": "stream",
     "text": [
      "+-------+----+------------+-----+\n",
      "|i94port|code|municipality|state|\n",
      "+-------+----+------------+-----+\n",
      "|    BGM| BGM|      Bangor|   ME|\n",
      "|    BGM| BGM|      Bangor|   ME|\n",
      "|    BGM| BGM|      Bangor|   ME|\n",
      "|    BGM| BGM|      Bangor|   ME|\n",
      "|    BGM| BGM|      Bangor|   ME|\n",
      "|    BGM| BGM|      Bangor|   ME|\n",
      "|    BGM| BGM|      Bangor|   ME|\n",
      "|    BGM| BGM|      Bangor|   ME|\n",
      "|    BGM| BGM|      Bangor|   ME|\n",
      "|    BGM| BGM|      Bangor|   ME|\n",
      "+-------+----+------------+-----+\n",
      "\n"
     ]
    }
   ],
   "source": [
    "spark.sql(\"\"\"\\\n",
    "SELECT d.i94port, c.code, c.municipality, c.state\n",
    "FROM i94_data d\n",
    "JOIN df_cbp_codes c ON d.i94port = c.code\n",
    "WHERE d.i94mode == 1.0\n",
    "LIMIT 10\n",
    "\"\"\").show()"
   ]
  },
  {
   "cell_type": "markdown",
   "metadata": {
    "editable": true
   },
   "source": [
    "This was still not very useful as we're interested in international airports. Sadly, the i94 data does not include airport identification codes, so I made the assumption that the entry (at least over air) was made on a large airport. With this information in mind, I could combine the i94port with the airport codes using the municipality and state as identifiers."
   ]
  },
  {
   "cell_type": "code",
   "execution_count": 51,
   "metadata": {
    "editable": true
   },
   "outputs": [],
   "source": [
    "df_airports.createOrReplaceTempView(\"df_airports\")"
   ]
  },
  {
   "cell_type": "code",
   "execution_count": 52,
   "metadata": {
    "editable": true
   },
   "outputs": [
    {
     "data": {
      "text/html": [
       "<div>\n",
       "<style scoped>\n",
       "    .dataframe tbody tr th:only-of-type {\n",
       "        vertical-align: middle;\n",
       "    }\n",
       "\n",
       "    .dataframe tbody tr th {\n",
       "        vertical-align: top;\n",
       "    }\n",
       "\n",
       "    .dataframe thead th {\n",
       "        text-align: right;\n",
       "    }\n",
       "</style>\n",
       "<table border=\"1\" class=\"dataframe\">\n",
       "  <thead>\n",
       "    <tr style=\"text-align: right;\">\n",
       "      <th></th>\n",
       "      <th>i94port</th>\n",
       "      <th>code</th>\n",
       "      <th>municipality</th>\n",
       "      <th>state</th>\n",
       "      <th>name</th>\n",
       "    </tr>\n",
       "  </thead>\n",
       "  <tbody>\n",
       "    <tr>\n",
       "      <th>0</th>\n",
       "      <td>BGM</td>\n",
       "      <td>BGM</td>\n",
       "      <td>Bangor</td>\n",
       "      <td>ME</td>\n",
       "      <td>Bangor International Airport</td>\n",
       "    </tr>\n",
       "    <tr>\n",
       "      <th>1</th>\n",
       "      <td>BGM</td>\n",
       "      <td>BGM</td>\n",
       "      <td>Bangor</td>\n",
       "      <td>ME</td>\n",
       "      <td>Bangor International Airport</td>\n",
       "    </tr>\n",
       "    <tr>\n",
       "      <th>2</th>\n",
       "      <td>BGM</td>\n",
       "      <td>BGM</td>\n",
       "      <td>Bangor</td>\n",
       "      <td>ME</td>\n",
       "      <td>Bangor International Airport</td>\n",
       "    </tr>\n",
       "    <tr>\n",
       "      <th>3</th>\n",
       "      <td>BGM</td>\n",
       "      <td>BGM</td>\n",
       "      <td>Bangor</td>\n",
       "      <td>ME</td>\n",
       "      <td>Bangor International Airport</td>\n",
       "    </tr>\n",
       "    <tr>\n",
       "      <th>4</th>\n",
       "      <td>BGM</td>\n",
       "      <td>BGM</td>\n",
       "      <td>Bangor</td>\n",
       "      <td>ME</td>\n",
       "      <td>Bangor International Airport</td>\n",
       "    </tr>\n",
       "    <tr>\n",
       "      <th>5</th>\n",
       "      <td>BGM</td>\n",
       "      <td>BGM</td>\n",
       "      <td>Bangor</td>\n",
       "      <td>ME</td>\n",
       "      <td>Bangor International Airport</td>\n",
       "    </tr>\n",
       "    <tr>\n",
       "      <th>6</th>\n",
       "      <td>BGM</td>\n",
       "      <td>BGM</td>\n",
       "      <td>Bangor</td>\n",
       "      <td>ME</td>\n",
       "      <td>Bangor International Airport</td>\n",
       "    </tr>\n",
       "    <tr>\n",
       "      <th>7</th>\n",
       "      <td>BGM</td>\n",
       "      <td>BGM</td>\n",
       "      <td>Bangor</td>\n",
       "      <td>ME</td>\n",
       "      <td>Bangor International Airport</td>\n",
       "    </tr>\n",
       "    <tr>\n",
       "      <th>8</th>\n",
       "      <td>BGM</td>\n",
       "      <td>BGM</td>\n",
       "      <td>Bangor</td>\n",
       "      <td>ME</td>\n",
       "      <td>Bangor International Airport</td>\n",
       "    </tr>\n",
       "    <tr>\n",
       "      <th>9</th>\n",
       "      <td>BGM</td>\n",
       "      <td>BGM</td>\n",
       "      <td>Bangor</td>\n",
       "      <td>ME</td>\n",
       "      <td>Bangor International Airport</td>\n",
       "    </tr>\n",
       "  </tbody>\n",
       "</table>\n",
       "</div>"
      ],
      "text/plain": [
       "  i94port code municipality state                          name\n",
       "0     BGM  BGM       Bangor    ME  Bangor International Airport\n",
       "1     BGM  BGM       Bangor    ME  Bangor International Airport\n",
       "2     BGM  BGM       Bangor    ME  Bangor International Airport\n",
       "3     BGM  BGM       Bangor    ME  Bangor International Airport\n",
       "4     BGM  BGM       Bangor    ME  Bangor International Airport\n",
       "5     BGM  BGM       Bangor    ME  Bangor International Airport\n",
       "6     BGM  BGM       Bangor    ME  Bangor International Airport\n",
       "7     BGM  BGM       Bangor    ME  Bangor International Airport\n",
       "8     BGM  BGM       Bangor    ME  Bangor International Airport\n",
       "9     BGM  BGM       Bangor    ME  Bangor International Airport"
      ]
     },
     "execution_count": 52,
     "metadata": {},
     "output_type": "execute_result"
    }
   ],
   "source": [
    "spark.sql(\"\"\"\\\n",
    "SELECT d.i94port, c.code, c.municipality, c.state, a.name\n",
    "FROM i94_data d\n",
    "JOIN df_cbp_codes c ON d.i94port = c.code\n",
    "JOIN df_airports A ON c.municipality = a.municipality AND c.state = a.state\n",
    "WHERE d.i94mode == 1.0\n",
    "LIMIT 10\n",
    "\"\"\").toPandas()"
   ]
  },
  {
   "cell_type": "markdown",
   "metadata": {
    "editable": true
   },
   "source": [
    "At this point I had a table of i94 records of air travellers linked to a specific airport."
   ]
  },
  {
   "cell_type": "markdown",
   "metadata": {
    "editable": true
   },
   "source": [
    "#### Country of origin"
   ]
  },
  {
   "cell_type": "markdown",
   "metadata": {
    "editable": true
   },
   "source": [
    "I needed to map an entry record with their country and (hopefully) their native language. I used the i94 data set `i94cit` column combined with the information in the description file about the field (stored in `df_i94cntyl`) and the language information. I could have just as easily used the `i94res` column as the source."
   ]
  },
  {
   "cell_type": "code",
   "execution_count": 53,
   "metadata": {
    "editable": true
   },
   "outputs": [
    {
     "name": "stdout",
     "output_type": "stream",
     "text": [
      "+----------------------------------------------------------------+\n",
      "|count(CASE WHEN ((i94cit = ) OR (i94cit IS NULL)) THEN true END)|\n",
      "+----------------------------------------------------------------+\n",
      "|                                                               0|\n",
      "+----------------------------------------------------------------+\n",
      "\n"
     ]
    }
   ],
   "source": [
    "df_i94_data.select([F.count(F.when((F.col(\"i94cit\") == \"\") | F.isnull(\"i94cit\"), True))]).show()"
   ]
  },
  {
   "cell_type": "markdown",
   "metadata": {
    "editable": true
   },
   "source": [
    "No missing data on on the `i94cit` column. So I could safely join with the `df_i94cntyl` and `df_countries` tables."
   ]
  },
  {
   "cell_type": "code",
   "execution_count": 54,
   "metadata": {
    "editable": true
   },
   "outputs": [],
   "source": [
    "df_i94cntyl.createOrReplaceTempView(\"df_i94cntyl\")"
   ]
  },
  {
   "cell_type": "code",
   "execution_count": 55,
   "metadata": {
    "editable": true
   },
   "outputs": [],
   "source": [
    "df_countries.createOrReplaceTempView(\"df_countries\")"
   ]
  },
  {
   "cell_type": "code",
   "execution_count": 56,
   "metadata": {
    "editable": true
   },
   "outputs": [
    {
     "data": {
      "text/html": [
       "<div>\n",
       "<style scoped>\n",
       "    .dataframe tbody tr th:only-of-type {\n",
       "        vertical-align: middle;\n",
       "    }\n",
       "\n",
       "    .dataframe tbody tr th {\n",
       "        vertical-align: top;\n",
       "    }\n",
       "\n",
       "    .dataframe thead th {\n",
       "        text-align: right;\n",
       "    }\n",
       "</style>\n",
       "<table border=\"1\" class=\"dataframe\">\n",
       "  <thead>\n",
       "    <tr style=\"text-align: right;\">\n",
       "      <th></th>\n",
       "      <th>i94cit</th>\n",
       "      <th>description</th>\n",
       "      <th>languages</th>\n",
       "    </tr>\n",
       "  </thead>\n",
       "  <tbody>\n",
       "    <tr>\n",
       "      <th>0</th>\n",
       "      <td>254.0</td>\n",
       "      <td>None</td>\n",
       "      <td>None</td>\n",
       "    </tr>\n",
       "    <tr>\n",
       "      <th>1</th>\n",
       "      <td>101.0</td>\n",
       "      <td>ALBANIA</td>\n",
       "      <td>sqi</td>\n",
       "    </tr>\n",
       "    <tr>\n",
       "      <th>2</th>\n",
       "      <td>101.0</td>\n",
       "      <td>ALBANIA</td>\n",
       "      <td>sqi</td>\n",
       "    </tr>\n",
       "    <tr>\n",
       "      <th>3</th>\n",
       "      <td>101.0</td>\n",
       "      <td>ALBANIA</td>\n",
       "      <td>sqi</td>\n",
       "    </tr>\n",
       "    <tr>\n",
       "      <th>4</th>\n",
       "      <td>101.0</td>\n",
       "      <td>ALBANIA</td>\n",
       "      <td>sqi</td>\n",
       "    </tr>\n",
       "    <tr>\n",
       "      <th>5</th>\n",
       "      <td>101.0</td>\n",
       "      <td>ALBANIA</td>\n",
       "      <td>sqi</td>\n",
       "    </tr>\n",
       "    <tr>\n",
       "      <th>6</th>\n",
       "      <td>101.0</td>\n",
       "      <td>ALBANIA</td>\n",
       "      <td>sqi</td>\n",
       "    </tr>\n",
       "    <tr>\n",
       "      <th>7</th>\n",
       "      <td>101.0</td>\n",
       "      <td>ALBANIA</td>\n",
       "      <td>sqi</td>\n",
       "    </tr>\n",
       "    <tr>\n",
       "      <th>8</th>\n",
       "      <td>101.0</td>\n",
       "      <td>ALBANIA</td>\n",
       "      <td>sqi</td>\n",
       "    </tr>\n",
       "    <tr>\n",
       "      <th>9</th>\n",
       "      <td>101.0</td>\n",
       "      <td>ALBANIA</td>\n",
       "      <td>sqi</td>\n",
       "    </tr>\n",
       "  </tbody>\n",
       "</table>\n",
       "</div>"
      ],
      "text/plain": [
       "   i94cit description languages\n",
       "0   254.0        None      None\n",
       "1   101.0     ALBANIA       sqi\n",
       "2   101.0     ALBANIA       sqi\n",
       "3   101.0     ALBANIA       sqi\n",
       "4   101.0     ALBANIA       sqi\n",
       "5   101.0     ALBANIA       sqi\n",
       "6   101.0     ALBANIA       sqi\n",
       "7   101.0     ALBANIA       sqi\n",
       "8   101.0     ALBANIA       sqi\n",
       "9   101.0     ALBANIA       sqi"
      ]
     },
     "execution_count": 56,
     "metadata": {},
     "output_type": "execute_result"
    }
   ],
   "source": [
    "spark.sql(\"\"\"\\\n",
    "SELECT d.i94cit, c1.description, c2.languages\n",
    "FROM i94_data d\n",
    "LEFT JOIN df_i94cntyl c1 ON d.i94cit = c1.value\n",
    "LEFT JOIN df_countries c2 ON LOWER(c1.description) = LOWER(c2.name)\n",
    "WHERE d.i94mode == 1.0\n",
    "LIMIT 10\n",
    "\"\"\").toPandas()"
   ]
  },
  {
   "cell_type": "markdown",
   "metadata": {
    "editable": true
   },
   "source": [
    "There were entries without country information, so I had to create a specific entry in the dimension tables for those cases."
   ]
  },
  {
   "cell_type": "markdown",
   "metadata": {
    "editable": true
   },
   "source": [
    "#### Age"
   ]
  },
  {
   "cell_type": "markdown",
   "metadata": {
    "editable": true
   },
   "source": [
    "I used `biryear` to determine the age of the passenger."
   ]
  },
  {
   "cell_type": "code",
   "execution_count": 57,
   "metadata": {
    "editable": true
   },
   "outputs": [
    {
     "name": "stdout",
     "output_type": "stream",
     "text": [
      "+--------------------------------------------------------------------+\n",
      "|count(CASE WHEN (isnan(biryear) OR (biryear IS NULL)) THEN true END)|\n",
      "+--------------------------------------------------------------------+\n",
      "|                                                                1406|\n",
      "+--------------------------------------------------------------------+\n",
      "\n"
     ]
    }
   ],
   "source": [
    "df_i94_data.select([F.count(F.when(F.isnan(\"biryear\") | F.isnull(\"biryear\"), True))]).show()"
   ]
  },
  {
   "cell_type": "markdown",
   "metadata": {
    "editable": true
   },
   "source": [
    "There are missing entries, so I had to take this into account when designing the model. The goal was to assign a passenger to a \"bucket\" based on their age, so the transport company can better accomodate their needs.\n",
    "\n",
    "* Child (`CH`): Less than 12 years old (age < 12)\n",
    "* Teenager (`TE`): Between 12 and 18 years old (12 <= age < 18)\n",
    "* Adult  (`AD`): Between 18 and 65 years old (18 <= 65)\n",
    "* Older Adult (`OA`): Over 65 years old (65 < age)\n",
    "* Unknown (`UN`)"
   ]
  },
  {
   "cell_type": "markdown",
   "metadata": {
    "editable": true
   },
   "source": [
    "#### Gender"
   ]
  },
  {
   "cell_type": "markdown",
   "metadata": {
    "editable": true
   },
   "source": [
    "I used `gender` to determine the gender of the passenger."
   ]
  },
  {
   "cell_type": "code",
   "execution_count": 58,
   "metadata": {
    "editable": true
   },
   "outputs": [
    {
     "name": "stdout",
     "output_type": "stream",
     "text": [
      "+----------------------------------------------------------------+\n",
      "|count(CASE WHEN ((gender = ) OR (gender IS NULL)) THEN true END)|\n",
      "+----------------------------------------------------------------+\n",
      "|                                                          916875|\n",
      "+----------------------------------------------------------------+\n",
      "\n"
     ]
    }
   ],
   "source": [
    "df_i94_data.select([F.count(F.when((F.col(\"gender\") == \"\") | F.isnull(\"gender\"), True))]).show()"
   ]
  },
  {
   "cell_type": "code",
   "execution_count": 59,
   "metadata": {
    "editable": true
   },
   "outputs": [
    {
     "name": "stdout",
     "output_type": "stream",
     "text": [
      "+------+\n",
      "|gender|\n",
      "+------+\n",
      "|     F|\n",
      "|  null|\n",
      "|     M|\n",
      "|     U|\n",
      "|     X|\n",
      "+------+\n",
      "\n"
     ]
    }
   ],
   "source": [
    "df_i94_data.select(\"gender\").distinct().show()"
   ]
  },
  {
   "cell_type": "markdown",
   "metadata": {
    "editable": true
   },
   "source": [
    "There are a lot of records with missing gender information, we can't trust this value entirely. I couldn't find a defitinion for the gender values, so I assumed the following:\n",
    "\n",
    "* M: Male\n",
    "* F: Female\n",
    "* U: Unknown\n",
    "* X: Other\n",
    "* null: Missing value"
   ]
  },
  {
   "cell_type": "markdown",
   "metadata": {
    "editable": true
   },
   "source": [
    "#### World Temperature Data"
   ]
  },
  {
   "cell_type": "markdown",
   "metadata": {
    "editable": true
   },
   "source": [
    "The first thing I need to do is to check whether we have data available for 2016 as that's the only year available for the immigration data. Before I can do that, I need to convert the date column "
   ]
  },
  {
   "cell_type": "code",
   "execution_count": 60,
   "metadata": {
    "editable": true
   },
   "outputs": [],
   "source": [
    "df_temperature = df_temperature.withColumn(\"dt\", F.expr(\"to_date(dt)\"))"
   ]
  },
  {
   "cell_type": "code",
   "execution_count": 61,
   "metadata": {
    "editable": true
   },
   "outputs": [
    {
     "data": {
      "text/html": [
       "<div>\n",
       "<style scoped>\n",
       "    .dataframe tbody tr th:only-of-type {\n",
       "        vertical-align: middle;\n",
       "    }\n",
       "\n",
       "    .dataframe tbody tr th {\n",
       "        vertical-align: top;\n",
       "    }\n",
       "\n",
       "    .dataframe thead th {\n",
       "        text-align: right;\n",
       "    }\n",
       "</style>\n",
       "<table border=\"1\" class=\"dataframe\">\n",
       "  <thead>\n",
       "    <tr style=\"text-align: right;\">\n",
       "      <th></th>\n",
       "      <th>dt</th>\n",
       "      <th>AverageTemperature</th>\n",
       "      <th>AverageTemperatureUncertainty</th>\n",
       "      <th>City</th>\n",
       "      <th>Country</th>\n",
       "      <th>Latitude</th>\n",
       "      <th>Longitude</th>\n",
       "    </tr>\n",
       "  </thead>\n",
       "  <tbody>\n",
       "    <tr>\n",
       "      <th>0</th>\n",
       "      <td>1743-11-01</td>\n",
       "      <td>6.068</td>\n",
       "      <td>1.7369999999999999</td>\n",
       "      <td>Århus</td>\n",
       "      <td>Denmark</td>\n",
       "      <td>57.05N</td>\n",
       "      <td>10.33E</td>\n",
       "    </tr>\n",
       "    <tr>\n",
       "      <th>1</th>\n",
       "      <td>1743-12-01</td>\n",
       "      <td>None</td>\n",
       "      <td>None</td>\n",
       "      <td>Århus</td>\n",
       "      <td>Denmark</td>\n",
       "      <td>57.05N</td>\n",
       "      <td>10.33E</td>\n",
       "    </tr>\n",
       "    <tr>\n",
       "      <th>2</th>\n",
       "      <td>1744-01-01</td>\n",
       "      <td>None</td>\n",
       "      <td>None</td>\n",
       "      <td>Århus</td>\n",
       "      <td>Denmark</td>\n",
       "      <td>57.05N</td>\n",
       "      <td>10.33E</td>\n",
       "    </tr>\n",
       "    <tr>\n",
       "      <th>3</th>\n",
       "      <td>1744-02-01</td>\n",
       "      <td>None</td>\n",
       "      <td>None</td>\n",
       "      <td>Århus</td>\n",
       "      <td>Denmark</td>\n",
       "      <td>57.05N</td>\n",
       "      <td>10.33E</td>\n",
       "    </tr>\n",
       "    <tr>\n",
       "      <th>4</th>\n",
       "      <td>1744-03-01</td>\n",
       "      <td>None</td>\n",
       "      <td>None</td>\n",
       "      <td>Århus</td>\n",
       "      <td>Denmark</td>\n",
       "      <td>57.05N</td>\n",
       "      <td>10.33E</td>\n",
       "    </tr>\n",
       "  </tbody>\n",
       "</table>\n",
       "</div>"
      ],
      "text/plain": [
       "           dt AverageTemperature AverageTemperatureUncertainty   City  \\\n",
       "0  1743-11-01              6.068            1.7369999999999999  Århus   \n",
       "1  1743-12-01               None                          None  Århus   \n",
       "2  1744-01-01               None                          None  Århus   \n",
       "3  1744-02-01               None                          None  Århus   \n",
       "4  1744-03-01               None                          None  Århus   \n",
       "\n",
       "   Country Latitude Longitude  \n",
       "0  Denmark   57.05N    10.33E  \n",
       "1  Denmark   57.05N    10.33E  \n",
       "2  Denmark   57.05N    10.33E  \n",
       "3  Denmark   57.05N    10.33E  \n",
       "4  Denmark   57.05N    10.33E  "
      ]
     },
     "execution_count": 61,
     "metadata": {},
     "output_type": "execute_result"
    }
   ],
   "source": [
    "df_temperature.limit(5).toPandas()"
   ]
  },
  {
   "cell_type": "code",
   "execution_count": 62,
   "metadata": {
    "editable": true
   },
   "outputs": [
    {
     "name": "stdout",
     "output_type": "stream",
     "text": [
      "root\n",
      " |-- dt: date (nullable = true)\n",
      " |-- AverageTemperature: string (nullable = true)\n",
      " |-- AverageTemperatureUncertainty: string (nullable = true)\n",
      " |-- City: string (nullable = true)\n",
      " |-- Country: string (nullable = true)\n",
      " |-- Latitude: string (nullable = true)\n",
      " |-- Longitude: string (nullable = true)\n",
      "\n"
     ]
    }
   ],
   "source": [
    "df_temperature.printSchema()"
   ]
  },
  {
   "cell_type": "code",
   "execution_count": 63,
   "metadata": {
    "editable": true
   },
   "outputs": [
    {
     "name": "stdout",
     "output_type": "stream",
     "text": [
      "+---------------------------------------------------------------------------------------+\n",
      "|count(CASE WHEN ((dt >= DATE '2016-01-01') AND (dt < DATE '2017-01-01')) THEN true END)|\n",
      "+---------------------------------------------------------------------------------------+\n",
      "|                                                                                      0|\n",
      "+---------------------------------------------------------------------------------------+\n",
      "\n"
     ]
    }
   ],
   "source": [
    "df_temperature.select([\n",
    "    F.count(\n",
    "        F.when(\n",
    "            (F.col(\"dt\") >= date(2016, 1, 1)) & (F.col(\"dt\") < date(2017, 1, 1)),\n",
    "            True\n",
    "        )\n",
    "    )\n",
    "]).show()"
   ]
  },
  {
   "cell_type": "markdown",
   "metadata": {
    "editable": true
   },
   "source": [
    "Since there was no data available for the specific time period that we're looking for, we're going to take the weekly average of the last five years available, for cities within the US. This is far from ideal, but I wanted to make us of the provided data."
   ]
  },
  {
   "cell_type": "code",
   "execution_count": 64,
   "metadata": {
    "editable": true
   },
   "outputs": [
    {
     "name": "stdout",
     "output_type": "stream",
     "text": [
      "2013\n"
     ]
    }
   ],
   "source": [
    "max_year = df_temperature.select([\n",
    "    F.max(\n",
    "        F.year(F.col(\"dt\"))\n",
    "    ).alias('max_year')\n",
    "]).collect()[0].max_year\n",
    "print(max_year)"
   ]
  },
  {
   "cell_type": "code",
   "execution_count": 65,
   "metadata": {
    "editable": true
   },
   "outputs": [
    {
     "name": "stdout",
     "output_type": "stream",
     "text": [
      "+-------+----------+------------------+\n",
      "|   City|WeekOfYear|AverageTemperature|\n",
      "+-------+----------+------------------+\n",
      "|Abilene|         1| 6.333500000000001|\n",
      "|Abilene|         5|              7.81|\n",
      "|Abilene|         9|13.662799999999999|\n",
      "|Abilene|        13|19.519666666666666|\n",
      "|Abilene|        14|           16.5495|\n",
      "|Abilene|        17|           22.3795|\n",
      "|Abilene|        18|            22.968|\n",
      "|Abilene|        22|          28.87575|\n",
      "|Abilene|        23|27.691999999999997|\n",
      "|Abilene|        26|            29.511|\n",
      "|Abilene|        27|27.887999999999998|\n",
      "|Abilene|        30|29.221999999999998|\n",
      "|Abilene|        31|           29.5425|\n",
      "|Abilene|        35|          24.82625|\n",
      "|Abilene|        36|            22.424|\n",
      "|Abilene|        39|             18.38|\n",
      "|Abilene|        40|              16.1|\n",
      "|Abilene|        44|           12.6795|\n",
      "|Abilene|        48| 6.989333333333334|\n",
      "|Abilene|        49|             3.908|\n",
      "+-------+----------+------------------+\n",
      "only showing top 20 rows\n",
      "\n"
     ]
    }
   ],
   "source": [
    "df_temperature\\\n",
    "    .where(F.col(\"Country\") == \"United States\")\\\n",
    "    .where((F.year(F.col(\"dt\")) > max_year - 5) & (F.year(F.col(\"dt\")) <= max_year))\\\n",
    "    .groupBy([F.col(\"City\"), F.weekofyear(F.col(\"dt\")).alias(\"WeekOfYear\")]).agg(F.mean(\"AverageTemperature\").alias(\"AverageTemperature\"))\\\n",
    "    .orderBy(\"City\", \"WeekOfYear\").show()"
   ]
  },
  {
   "cell_type": "markdown",
   "metadata": {
    "editable": true
   },
   "source": [
    "I decided to categorized the temperature as follows:\n",
    "\n",
    "* Very Cold (`VC`): average temperature < 5\n",
    "* Cold (`CO`): 5 <= average temperature < 15\n",
    "* Mild (`MI`): 15 <= average temperature < 25\n",
    "* Hot (`HO`): 25 <= average temperature < 35\n",
    "* Very Hot (`VH`): 35 <= average temperature\n",
    "* Unknown (`UN`)\n",
    "\n",
    "I had to include an `Unknown` category as there were a gaps in the data set. Norice that there's no state associated with the city, so I assumed the city names to be unique."
   ]
  },
  {
   "cell_type": "markdown",
   "metadata": {
    "editable": true
   },
   "source": [
    "#### UNData - National accounts"
   ]
  },
  {
   "cell_type": "markdown",
   "metadata": {
    "editable": true
   },
   "source": [
    "I'm only interested in the gdp per capita, for each country for the year \"2017\" (the closest to the available i94 data set)."
   ]
  },
  {
   "cell_type": "code",
   "execution_count": 66,
   "metadata": {
    "editable": true
   },
   "outputs": [
    {
     "data": {
      "text/html": [
       "<div>\n",
       "<style scoped>\n",
       "    .dataframe tbody tr th:only-of-type {\n",
       "        vertical-align: middle;\n",
       "    }\n",
       "\n",
       "    .dataframe tbody tr th {\n",
       "        vertical-align: top;\n",
       "    }\n",
       "\n",
       "    .dataframe thead th {\n",
       "        text-align: right;\n",
       "    }\n",
       "</style>\n",
       "<table border=\"1\" class=\"dataframe\">\n",
       "  <thead>\n",
       "    <tr style=\"text-align: right;\">\n",
       "      <th></th>\n",
       "      <th>Region/Country/Area</th>\n",
       "      <th>_c1</th>\n",
       "      <th>Year</th>\n",
       "      <th>Series</th>\n",
       "      <th>Value</th>\n",
       "      <th>Footnotes</th>\n",
       "      <th>Source</th>\n",
       "    </tr>\n",
       "  </thead>\n",
       "  <tbody>\n",
       "    <tr>\n",
       "      <th>0</th>\n",
       "      <td>1</td>\n",
       "      <td>Total, all countries or areas</td>\n",
       "      <td>1995</td>\n",
       "      <td>GDP in current prices (millions of US dollars)</td>\n",
       "      <td>31,140,783</td>\n",
       "      <td>None</td>\n",
       "      <td>United Nations Statistics Division, New York, ...</td>\n",
       "    </tr>\n",
       "    <tr>\n",
       "      <th>1</th>\n",
       "      <td>1</td>\n",
       "      <td>Total, all countries or areas</td>\n",
       "      <td>2005</td>\n",
       "      <td>GDP in current prices (millions of US dollars)</td>\n",
       "      <td>47,623,151</td>\n",
       "      <td>None</td>\n",
       "      <td>United Nations Statistics Division, New York, ...</td>\n",
       "    </tr>\n",
       "    <tr>\n",
       "      <th>2</th>\n",
       "      <td>1</td>\n",
       "      <td>Total, all countries or areas</td>\n",
       "      <td>2010</td>\n",
       "      <td>GDP in current prices (millions of US dollars)</td>\n",
       "      <td>66,272,559</td>\n",
       "      <td>None</td>\n",
       "      <td>United Nations Statistics Division, New York, ...</td>\n",
       "    </tr>\n",
       "    <tr>\n",
       "      <th>3</th>\n",
       "      <td>1</td>\n",
       "      <td>Total, all countries or areas</td>\n",
       "      <td>2015</td>\n",
       "      <td>GDP in current prices (millions of US dollars)</td>\n",
       "      <td>74,985,744</td>\n",
       "      <td>None</td>\n",
       "      <td>United Nations Statistics Division, New York, ...</td>\n",
       "    </tr>\n",
       "    <tr>\n",
       "      <th>4</th>\n",
       "      <td>1</td>\n",
       "      <td>Total, all countries or areas</td>\n",
       "      <td>2017</td>\n",
       "      <td>GDP in current prices (millions of US dollars)</td>\n",
       "      <td>81,056,929</td>\n",
       "      <td>None</td>\n",
       "      <td>United Nations Statistics Division, New York, ...</td>\n",
       "    </tr>\n",
       "  </tbody>\n",
       "</table>\n",
       "</div>"
      ],
      "text/plain": [
       "  Region/Country/Area                            _c1  Year  \\\n",
       "0                   1  Total, all countries or areas  1995   \n",
       "1                   1  Total, all countries or areas  2005   \n",
       "2                   1  Total, all countries or areas  2010   \n",
       "3                   1  Total, all countries or areas  2015   \n",
       "4                   1  Total, all countries or areas  2017   \n",
       "\n",
       "                                           Series       Value Footnotes  \\\n",
       "0  GDP in current prices (millions of US dollars)  31,140,783      None   \n",
       "1  GDP in current prices (millions of US dollars)  47,623,151      None   \n",
       "2  GDP in current prices (millions of US dollars)  66,272,559      None   \n",
       "3  GDP in current prices (millions of US dollars)  74,985,744      None   \n",
       "4  GDP in current prices (millions of US dollars)  81,056,929      None   \n",
       "\n",
       "                                              Source  \n",
       "0  United Nations Statistics Division, New York, ...  \n",
       "1  United Nations Statistics Division, New York, ...  \n",
       "2  United Nations Statistics Division, New York, ...  \n",
       "3  United Nations Statistics Division, New York, ...  \n",
       "4  United Nations Statistics Division, New York, ...  "
      ]
     },
     "execution_count": 66,
     "metadata": {},
     "output_type": "execute_result"
    }
   ],
   "source": [
    "df_national_accounts.limit(5).toPandas()"
   ]
  },
  {
   "cell_type": "code",
   "execution_count": 67,
   "metadata": {
    "editable": true
   },
   "outputs": [],
   "source": [
    "df_national_accounts = df_national_accounts\\\n",
    "    .where(~F.col(\"Region/Country/Area\").isin(1, 2, 15, 202, 14, 17, 18, 11, 19, 21, 419, 29, 13, 5, 142, 143, 30, 35, 34, 145, 150, 151, 154, 39, 155, 9, 53, 54, 57, 61))\\\n",
    "    .where(F.col(\"Series\") == \"GDP per capita (US dollars)\")\\\n",
    "    .where(F.col(\"Year\") == 2017)\\\n",
    "    .select([\n",
    "        F.col(\"_c1\").alias(\"country\"),\n",
    "        F.udf(lambda s: s.replace(\",\", \"\"))(F.col(\"Value\")).cast(\"double\").alias(\"gdp_per_capita\")\n",
    "    ])"
   ]
  },
  {
   "cell_type": "code",
   "execution_count": 68,
   "metadata": {
    "editable": true
   },
   "outputs": [
    {
     "data": {
      "text/html": [
       "<div>\n",
       "<style scoped>\n",
       "    .dataframe tbody tr th:only-of-type {\n",
       "        vertical-align: middle;\n",
       "    }\n",
       "\n",
       "    .dataframe tbody tr th {\n",
       "        vertical-align: top;\n",
       "    }\n",
       "\n",
       "    .dataframe thead th {\n",
       "        text-align: right;\n",
       "    }\n",
       "</style>\n",
       "<table border=\"1\" class=\"dataframe\">\n",
       "  <thead>\n",
       "    <tr style=\"text-align: right;\">\n",
       "      <th></th>\n",
       "      <th>country</th>\n",
       "      <th>gdp_per_capita</th>\n",
       "    </tr>\n",
       "  </thead>\n",
       "  <tbody>\n",
       "    <tr>\n",
       "      <th>0</th>\n",
       "      <td>Afghanistan</td>\n",
       "      <td>513.0</td>\n",
       "    </tr>\n",
       "    <tr>\n",
       "      <th>1</th>\n",
       "      <td>Albania</td>\n",
       "      <td>4514.0</td>\n",
       "    </tr>\n",
       "    <tr>\n",
       "      <th>2</th>\n",
       "      <td>Algeria</td>\n",
       "      <td>4110.0</td>\n",
       "    </tr>\n",
       "    <tr>\n",
       "      <th>3</th>\n",
       "      <td>Andorra</td>\n",
       "      <td>38963.0</td>\n",
       "    </tr>\n",
       "    <tr>\n",
       "      <th>4</th>\n",
       "      <td>Angola</td>\n",
       "      <td>4096.0</td>\n",
       "    </tr>\n",
       "  </tbody>\n",
       "</table>\n",
       "</div>"
      ],
      "text/plain": [
       "       country  gdp_per_capita\n",
       "0  Afghanistan           513.0\n",
       "1      Albania          4514.0\n",
       "2      Algeria          4110.0\n",
       "3      Andorra         38963.0\n",
       "4       Angola          4096.0"
      ]
     },
     "execution_count": 68,
     "metadata": {},
     "output_type": "execute_result"
    }
   ],
   "source": [
    "df_national_accounts.limit(5).toPandas()"
   ]
  },
  {
   "cell_type": "code",
   "execution_count": 69,
   "metadata": {
    "editable": true
   },
   "outputs": [
    {
     "name": "stdout",
     "output_type": "stream",
     "text": [
      "root\n",
      " |-- country: string (nullable = true)\n",
      " |-- gdp_per_capita: double (nullable = true)\n",
      "\n"
     ]
    }
   ],
   "source": [
    "df_national_accounts.printSchema()"
   ]
  },
  {
   "cell_type": "code",
   "execution_count": 70,
   "metadata": {
    "editable": true
   },
   "outputs": [
    {
     "data": {
      "text/plain": [
       "212"
      ]
     },
     "execution_count": 70,
     "metadata": {},
     "output_type": "execute_result"
    }
   ],
   "source": [
    "df_national_accounts.count()"
   ]
  },
  {
   "cell_type": "code",
   "execution_count": 71,
   "metadata": {
    "editable": true
   },
   "outputs": [
    {
     "name": "stdout",
     "output_type": "stream",
     "text": [
      "+----------------------------------------------------------------------------------+\n",
      "|count(CASE WHEN (isnan(gdp_per_capita) OR (gdp_per_capita IS NULL)) THEN true END)|\n",
      "+----------------------------------------------------------------------------------+\n",
      "|                                                                                 0|\n",
      "+----------------------------------------------------------------------------------+\n",
      "\n"
     ]
    }
   ],
   "source": [
    "df_national_accounts.select([F.count(F.when(F.isnan(\"gdp_per_capita\") | F.isnull(\"gdp_per_capita\"), True))]).show()"
   ]
  },
  {
   "cell_type": "markdown",
   "metadata": {
    "editable": true
   },
   "source": [
    "## Step 3: Define the Data Model"
   ]
  },
  {
   "cell_type": "markdown",
   "metadata": {
    "editable": true
   },
   "source": [
    "I used [dbdiagram.io](https://dbdiagram.io) to generate the following warehouse DB schema diagram."
   ]
  },
  {
   "cell_type": "code",
   "execution_count": 72,
   "metadata": {
    "editable": true
   },
   "outputs": [
    {
     "data": {
      "text/html": [
       "<img src=\"./images/Database Schema.png\" width=\"800\" height=\"800\"/>"
      ],
      "text/plain": [
       "<IPython.core.display.Image object>"
      ]
     },
     "execution_count": 72,
     "metadata": {},
     "output_type": "execute_result"
    }
   ],
   "source": [
    "Image(url= \"./images/Database Schema.png\", width=800, height=800)"
   ]
  },
  {
   "cell_type": "markdown",
   "metadata": {
    "editable": true
   },
   "source": [
    "## dimDate"
   ]
  },
  {
   "cell_type": "markdown",
   "metadata": {
    "editable": true
   },
   "source": [
    "A dimension to represent a date (a specific point in time with daily granularity)."
   ]
  },
  {
   "cell_type": "markdown",
   "metadata": {
    "editable": true
   },
   "source": [
    "| Column       | Type | PK | Description |\n",
    "|--------------|------|:--:|-------------|\n",
    "| date_id      | int  | Y  | An integer with format `YYYYMMDD` that identifies a record of the dimension |\n",
    "| year         | int  |    | Year |\n",
    "| month        | int  |    | Month |\n",
    "| day          | int  |    | Day of month |\n",
    "| day_of_week  | int  |    | An integer between 0 (Sunday) and 6 that represents the day of the week |\n",
    "| week_of_year | int  |    | Week of the year |"
   ]
  },
  {
   "cell_type": "markdown",
   "metadata": {
    "editable": true
   },
   "source": [
    "This table will be generated without using any data sources."
   ]
  },
  {
   "cell_type": "markdown",
   "metadata": {
    "editable": true
   },
   "source": [
    "```python\n",
    "end = datetime.now().replace(hour=0, minute=0, second=0, microsecond=0) + timedelta(days=30)\n",
    "start = end - timedelta(days=3660)\n",
    "\n",
    "dim_date_df = spark.sql(\n",
    "    f\"SELECT SEQUENCE({int(start.timestamp())}, {int(end.timestamp())}, 86400) AS date_timestamp\")\\\n",
    "    .withColumn(\"date_timestamp\", F.explode(\"date_timestamp\"))\\\n",
    "    .select(F.to_date(F.col(\"date_timestamp\").cast(\"timestamp\")).alias(\"date\"))\\\n",
    "    .withColumn(\"date_id\", F.date_format(F.col(\"date\"), \"YYYYMMDD\").cast(\"int\"))\\\n",
    "    .withColumn(\"year\", F.year(F.col(\"date\")).cast(\"short\"))\\\n",
    "    .withColumn(\"month\", F.month(F.col(\"date\")).cast(\"short\"))\\\n",
    "    .withColumn(\"day\", F.dayofmonth(F.col(\"date\")).cast(\"short\"))\\\n",
    "    .withColumn(\"day_of_week\", F.dayofweek(F.col(\"date\")).cast(\"short\"))\\\n",
    "    .withColumn(\"week_of_year\", F.weekofyear(F.col(\"date\")).cast(\"short\"))\\\n",
    "    .drop(\"date\")\\\n",
    "    .orderBy(\"date_id\")\n",
    "```"
   ]
  },
  {
   "cell_type": "markdown",
   "metadata": {
    "editable": true
   },
   "source": [
    "## dimCountry"
   ]
  },
  {
   "cell_type": "markdown",
   "metadata": {
    "editable": true
   },
   "source": [
    "A dimension to represent the country of origin of the passenger."
   ]
  },
  {
   "cell_type": "markdown",
   "metadata": {
    "editable": true
   },
   "source": [
    "| Column         | Type      | PK | Description |\n",
    "|----------------|-----------|:--:|-------------|\n",
    "| country_id     | char      | Y  | The ISO identifier of the country |\n",
    "| name           | varchar   |    | Name of the country |\n",
    "| languages      | varchar   |    | A list of languages spoken |\n",
    "| gdp_per_capita | double    |    | GDP per capita |"
   ]
  },
  {
   "cell_type": "markdown",
   "metadata": {
    "editable": true
   },
   "source": [
    "This table is generated combining the dataframes with information from the contries, their languages and the economic data."
   ]
  },
  {
   "cell_type": "markdown",
   "metadata": {
    "editable": true
   },
   "source": [
    "```python\n",
    "dim_country_df = countries_df.select([\"alpha3\", \"name\", \"languages\"])\\\n",
    "    .withColumnRenamed(\"alpha3\", \"country_id\")\\\n",
    "    .withColumn(\"languages\", F.explode(F.col(\"languages\")))\\\n",
    "    .join(\n",
    "        languages_df,\n",
    "        F.col(\"languages\") == languages_df.alpha3,\n",
    "        \"left\"\n",
    "    ).select(\n",
    "        \"country_id\",\n",
    "        countries_df.name,\n",
    "        languages_df.name.alias(\"languages\")\n",
    "    ).groupBy(\"country_id\").agg(\n",
    "        F.first(\"name\").alias(\"name\"),\n",
    "        F.collect_list(\"languages\").alias(\"languages\")\n",
    "    ).join(\n",
    "        national_accounts_df,\n",
    "        F.lower(F.col(\"name\")) == F.lower(national_accounts_df.country),\n",
    "        \"left\"\n",
    "    ).withColumn(\"gdp_per_capita\", F.coalesce(\"gdp_per_capita\", F.lit(0)))\\\n",
    "    .withColumn(\"languages\", F.udf(lambda languages: \",\".join(languages) if languages else \"Unknown\")(F.col(\"languages\")))\\\n",
    "    .drop(\"country\")\n",
    "```"
   ]
  },
  {
   "cell_type": "markdown",
   "metadata": {
    "editable": true
   },
   "source": [
    "## dimAirpoirt"
   ]
  },
  {
   "cell_type": "markdown",
   "metadata": {
    "editable": true
   },
   "source": [
    "A dimension to represent the airport on which the passenger arrived."
   ]
  },
  {
   "cell_type": "markdown",
   "metadata": {
    "editable": true
   },
   "source": [
    "| Column       | Type      | PK | Description |\n",
    "|--------------|-----------|:--:|-------------|\n",
    "| airport_id   | char      | Y  | The 4 character airport identifier |\n",
    "| name         | varchar   |    | Name of the airport |\n",
    "| municipality | varchar   |    | Municipality/city |\n",
    "| state        | char(2)   |    | State |"
   ]
  },
  {
   "cell_type": "markdown",
   "metadata": {
    "editable": true
   },
   "source": [
    "This table is constructed just using the airport information with minimal changes:"
   ]
  },
  {
   "cell_type": "markdown",
   "metadata": {
    "editable": true
   },
   "source": [
    "```python\n",
    "airports_df = spark.read.csv(AIRPORT_CODES_FILE, header=True)\\\n",
    "    .select([\"ident\", \"name\", \"iso_country\", \"iso_region\", \"municipality\", \"type\", \"iata_code\"])\\\n",
    "    .filter(F.col(\"iso_country\") == \"US\")\\\n",
    "    .filter(F.col(\"type\") == \"large_airport\")\\\n",
    "    .filter(F.col(\"iata_code\").isNotNull())\\\n",
    "    .withColumn(\"state\", F.udf(lambda s: re.sub(r\"US-\", \"\", s))(F.col(\"iso_region\")))\\\n",
    "    .withColumn(\"row_number\", F.row_number().over(municipality_state_window))\\\n",
    "    .filter(F.col(\"row_number\") == 1)\\\n",
    "    .withColumnRenamed(\"ident\", \"airport_id\")\\\n",
    "    .drop(\"iata_code\", \"iso_country\", \"iso_region\", \"row_number\", \"type\")\n",
    "```"
   ]
  },
  {
   "cell_type": "markdown",
   "metadata": {
    "editable": true
   },
   "source": [
    "## factIngress"
   ]
  },
  {
   "cell_type": "markdown",
   "metadata": {
    "editable": true
   },
   "source": [
    "This fact table represent the ingress into the United States of a person."
   ]
  },
  {
   "cell_type": "markdown",
   "metadata": {
    "editable": true
   },
   "source": [
    "| Column             | Type     | PK | Description |\n",
    "|--------------------|----------|:--:|-------------|\n",
    "| ingress_id         | char(36) | Y  | Unique identifier for the fact record |\n",
    "| date_id            | int      |    | Date of ingress |\n",
    "| country_id         | char(2)  |    | Country of origin |\n",
    "| airport_id         | char(4)  |    | Airport |\n",
    "| gender             | char     |    | Gender. Possible values:<br><ul><li>`M` Male</li><li>`F` Female</li><li>`X` Other</li><li>`U` Unknown/Missing</li></ul> |\n",
    "| age_bucket         | char(2)  |    | Age bucket. Possible values:<br><ul><li>`CH` Child - Age under 12</li><li>`TE` Teenager - Age between 12 and 18</li><li>`AD` Adult - Age between 18 and 65.</li><li>`OA` Older Adult - Age over 65</li><li>`UN` Unknown</li></ul> |\n",
    "| temperature_bucket | char(2)  |    | Average weekly temperature bucket. Possible values: <br><ul><li>`VC` Very cold - Temperature below 5C</li><li>`CO` Cold - Temperature between 5C and 15C</li><li>`MI` Mild - Temperature between 15C and 25C</li><li>`HO` Hot - Temperature between 25C and 35C</li><li>`VH` Very Hot - Temperature over 35C</li><li>`UN` Unknown/Missing</li></ul> |"
   ]
  },
  {
   "cell_type": "markdown",
   "metadata": {
    "editable": true
   },
   "source": [
    "This is the most complex table to generate, as it incorporates information from most of the available dataframes:"
   ]
  },
  {
   "cell_type": "markdown",
   "metadata": {
    "editable": true
   },
   "source": [
    "```python\n",
    "fact_ingress_df = i94_data_df.join(\n",
    "        cbp_codes_df,\n",
    "        F.col(\"i94port\") == cbp_codes_df.code\n",
    "    ).join(\n",
    "        airports_df,\n",
    "        (cbp_codes_df.state == airports_df.state) & (cbp_codes_df.municipality == airports_df.municipality) \n",
    "    ).join(\n",
    "        temperatures_df,\n",
    "        (F.lower(cbp_codes_df.municipality) == F.lower(temperatures_df.city))\n",
    "        & (F.weekofyear(F.col(\"arrdate\")) == temperatures_df.week_of_year),\n",
    "        \"left\"\n",
    "    ).withColumn(\"temperature_bucket\", F.coalesce(temperatures_df.temperature_bucket, F.lit(\"UN\")))\\\n",
    "    .join(\n",
    "        i94cntyl_df,\n",
    "        F.col(\"i94cit\") == i94cntyl_df.value\n",
    "    ).join(\n",
    "        countries_df,\n",
    "        F.lower(i94cntyl_df.description) == F.lower(countries_df.name)\n",
    "    ).withColumn(\"ingress_id\", F.udf(lambda: str(uuid.uuid4()))())\\\n",
    "    .select(\n",
    "        \"ingress_id\",\n",
    "        \"date_id\",\n",
    "        countries_df.alpha3.alias(\"country_id\"),\n",
    "        airports_df.airport_id.alias(\"airport_id\"),\n",
    "        \"gender\",\n",
    "        \"age_bucket\",\n",
    "        \"temperature_bucket\"\n",
    "    )\n",
    "```"
   ]
  },
  {
   "cell_type": "markdown",
   "metadata": {
    "editable": true
   },
   "source": [
    "## Step 4: Run ETL to Model the Data"
   ]
  },
  {
   "cell_type": "markdown",
   "metadata": {
    "editable": true
   },
   "source": [
    "## Introduction"
   ]
  },
  {
   "cell_type": "markdown",
   "metadata": {
    "editable": true
   },
   "source": [
    "As I mentioned in the first section, the main factor behid the technical decisions on the ETL process was cost efficiency. The second factor was data availability. My main source of information is the I94 data, which is not publicly available and I'm not sure if I'm allowed to copy o transfer the information outside of the context of Udacity's cloud."
   ]
  },
  {
   "cell_type": "markdown",
   "metadata": {
    "editable": true
   },
   "source": [
    "These are the steps involved in the ETL process (a more detailed explanation will be embedded in the Python scripts):\n",
    "\n",
    "1. Ensure the runtime environment is configured as expected:\n",
    "  * Verify AWS basic configuration.\n",
    "  * Verify access to target S3 bucket, create it if needed.\n",
    "  * Verify access to Redshift cluster, create it if needed.\n",
    "  * Ensure the warehouse schema exists, create it if needed.\n",
    "1. Fetch all the information that is not available in the workspace and doesn't have straight way of consuming the data directly through an API.\n",
    "1. With Spark, load the information into DataFrames, filtering, adapting and or transforming approprietly for each case.\n",
    "1. Perform minor data health checks on the loaded DataFrames.\n",
    "1. Construct the dimension and fact tables from the source material.\n",
    "1. Perform minor data health checks on the generated tables.\n",
    "1. Save the generated tables as parquet files using the appropriate modes and partitions.\n",
    "1. Upload the parquet files onto S3.\n",
    "1. Copy the information from the dimension tables parquet files into the warehouse dimension tables.\n",
    "1. Perform data health checks on the dimension tables.\n",
    "1. Copy the information from the fact tables parquet files into the warehouse fact tables.\n",
    "1. Perform data health checks on the fact tables."
   ]
  },
  {
   "cell_type": "markdown",
   "metadata": {
    "editable": true
   },
   "source": [
    "Theses steps should ensure that the cost incurred on my AWS account is minimal. The extra health checks are there to halt the process before any AWS services are consumed."
   ]
  },
  {
   "cell_type": "markdown",
   "metadata": {
    "editable": true
   },
   "source": [
    "## Running the scripts"
   ]
  },
  {
   "cell_type": "markdown",
   "metadata": {
    "editable": true
   },
   "source": [
    "Due to the restrictions in accessing the i94 data set, the ETL scripts need to be run within the context of a Udacity workspace (or an equivalent environment). The user needs to set the appropriate values on `etl.cfg`:"
   ]
  },
  {
   "cell_type": "markdown",
   "metadata": {
    "editable": true
   },
   "source": [
    "```\n",
    "[AWS]\n",
    "region = us-west-2\n",
    "aws_access_key_id = \n",
    "aws_secret_access_key = \n",
    "\n",
    "[S3]\n",
    "output_bucket = nd027-capstone-project\n",
    "\n",
    "[CLUSTER]\n",
    "cluster_type = single-node\n",
    "num_nodes = 4\n",
    "node_type = dc2.large\n",
    "identifier = capstone-project-cluster\n",
    "host = \n",
    "db_name = capstone-project\n",
    "db_user = etluser\n",
    "db_password = \n",
    "db_port = 5439\n",
    "\n",
    "[IAM_ROLE]\n",
    "role_name = EtlRole\n",
    "arn = \n",
    "```"
   ]
  },
  {
   "cell_type": "markdown",
   "metadata": {
    "editable": true
   },
   "source": [
    "The mandatory fields are `aws_access_key_id`, `aws_secret_access_key`, and `db_password`. Once everything is in place the user needs to run:"
   ]
  },
  {
   "cell_type": "markdown",
   "metadata": {
    "editable": true
   },
   "source": [
    "```\n",
    "python etl_prepare.py\n",
    "```"
   ]
  },
  {
   "cell_type": "markdown",
   "metadata": {
    "editable": true
   },
   "source": [
    "To create the necesary components on AWS, and update `etl.cfg` to match the runtime configuration. This takes a while as it needs to wait until the redshift cluster is available. Once it finishes, the ETL process is run with:"
   ]
  },
  {
   "cell_type": "markdown",
   "metadata": {
    "editable": true
   },
   "source": [
    "```\n",
    "python etl_run.py\n",
    "```"
   ]
  },
  {
   "cell_type": "markdown",
   "metadata": {
    "editable": true
   },
   "source": [
    "## Step 5: Complete Project Write Up"
   ]
  },
  {
   "cell_type": "markdown",
   "metadata": {
    "editable": true
   },
   "source": [
    "## Introduction"
   ]
  },
  {
   "cell_type": "markdown",
   "metadata": {
    "editable": true
   },
   "source": [
    "The previous sections described the journey that took me towards this conclusion. The main driving force behind most decisions were cost saving and data availability, hence the artificial limitiations."
   ]
  },
  {
   "cell_type": "markdown",
   "metadata": {
    "editable": true
   },
   "source": [
    "One of the major limitations was with the accessibility of the I94 data. I couldn't find any publicly available sources for it, so I was restricted to whatever was available through the Udacitiy's workspace. If a public source were available, I could have loaded that information directly into Redshift, saving a lot time in the process."
   ]
  },
  {
   "cell_type": "markdown",
   "metadata": {
    "editable": true
   },
   "source": [
    "This fact also limited the tools available, as the only reasoable tool to manage the date was the Spark instance running within the Udacity workspace. Of course I could have spun up an EMR and loaded the information there, but that would have increased the cost dramatically."
   ]
  },
  {
   "cell_type": "markdown",
   "metadata": {
    "editable": true
   },
   "source": [
    "The choice of Redshift came out of familiarity with the tool. Having a service that can handle the scale, and allows me to fetch directly from S3 is hard ignore. I suppose I could have used any of AWS's relational databases, but there's also the matter of personal preference."
   ]
  },
  {
   "cell_type": "markdown",
   "metadata": {
    "editable": true
   },
   "source": [
    "The model itself is a result of a combination of the available data, for example, having to average the temperature to provide an estimate of the temperature during ingress, or having to join using cities and states instead of a well defined key. The primary key of the fact table is an artifact of the method used to ingest the rows (using Redshift's `COPY` command) since an autoicrementing key could not be used. I could have loaded the data into a stage table and then `SELECT` into the fact table, but that would have increased the run cost."
   ]
  },
  {
   "cell_type": "markdown",
   "metadata": {
    "editable": true
   },
   "source": [
    "## Other scenarios"
   ]
  },
  {
   "cell_type": "markdown",
   "metadata": {
    "editable": true
   },
   "source": [
    "### The data was increased by 100x."
   ]
  },
  {
   "cell_type": "markdown",
   "metadata": {
    "editable": true
   },
   "source": [
    "Since the data we're working with is related to immigration, with a 100x scale increase, the most pressing problem would be humanitarian rather than technological. That being said, I think a reasonable path would be to use EMR to prepare the data (with some careful partitioning) and a larger Redshift cluster. This speaks to the flexibility of the tools."
   ]
  },
  {
   "cell_type": "markdown",
   "metadata": {
    "editable": true
   },
   "source": [
    "### The pipelines would be run on a daily basis by 7 am every day."
   ]
  },
  {
   "cell_type": "markdown",
   "metadata": {
    "editable": true
   },
   "source": [
    "This would be and ideal case for Airflow, to orchestrate the ETL process, but we would also need to change the methodology to avoid truncating dimension tables and ease the ingestion of the fact table rows. As it stands now, it's intended to be used once a year."
   ]
  },
  {
   "cell_type": "markdown",
   "metadata": {
    "editable": true
   },
   "source": [
    "### The database needed to be accessed by 100+ people."
   ]
  },
  {
   "cell_type": "markdown",
   "metadata": {
    "editable": true
   },
   "source": [
    "It depends on the use case. For the most part, Redshift could handle the load, assuming it has been scaled appropriately. If this wasn't enough, we could just expose the most common metrics as static content. "
   ]
  },
  {
   "cell_type": "markdown",
   "metadata": {
    "editable": true
   },
   "source": [
    "## Conclusions"
   ]
  },
  {
   "cell_type": "markdown",
   "metadata": {
    "editable": true
   },
   "source": [
    "This capstone project was both incredibly fun, fulfilling and...frustrating. The interesting part is that whenever I had a problem, there was something that was shown in a lecture, or presented as an excersize throughout the courses that could be used. In the end, I learned a lot, and I gained knowledge that I had the chance to apply on my current job."
   ]
  },
  {
   "cell_type": "code",
   "execution_count": null,
   "metadata": {
    "editable": true
   },
   "outputs": [],
   "source": []
  }
 ],
 "metadata": {
  "kernelspec": {
   "display_name": "Python 3",
   "language": "python",
   "name": "python3"
  },
  "language_info": {
   "codemirror_mode": {
    "name": "ipython",
    "version": 3
   },
   "file_extension": ".py",
   "mimetype": "text/x-python",
   "name": "python",
   "nbconvert_exporter": "python",
   "pygments_lexer": "ipython3",
   "version": "3.6.3"
  }
 },
 "nbformat": 4,
 "nbformat_minor": 4
}
